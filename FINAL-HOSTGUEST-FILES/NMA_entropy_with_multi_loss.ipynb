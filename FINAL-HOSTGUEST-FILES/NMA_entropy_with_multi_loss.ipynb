{
 "cells": [
  {
   "cell_type": "code",
   "execution_count": 1,
   "id": "4e1dbe02",
   "metadata": {},
   "outputs": [
    {
     "name": "stderr",
     "output_type": "stream",
     "text": [
      "2025-04-29 11:54:35.340029: I tensorflow/core/platform/cpu_feature_guard.cc:193] This TensorFlow binary is optimized with oneAPI Deep Neural Network Library (oneDNN) to use the following CPU instructions in performance-critical operations:  SSE4.1 SSE4.2 AVX AVX2 AVX512F AVX512_VNNI FMA\n",
      "To enable them in other operations, rebuild TensorFlow with the appropriate compiler flags.\n",
      "2025-04-29 11:54:35.408668: I tensorflow/core/util/port.cc:104] oneDNN custom operations are on. You may see slightly different numerical results due to floating-point round-off errors from different computation orders. To turn them off, set the environment variable `TF_ENABLE_ONEDNN_OPTS=0`.\n",
      "No normalization for SPS. Feature removed!\n",
      "No normalization for AvgIpc. Feature removed!\n",
      "No normalization for NumAmideBonds. Feature removed!\n",
      "No normalization for NumAtomStereoCenters. Feature removed!\n",
      "No normalization for NumBridgeheadAtoms. Feature removed!\n",
      "No normalization for NumHeterocycles. Feature removed!\n",
      "No normalization for NumSpiroAtoms. Feature removed!\n",
      "No normalization for NumUnspecifiedAtomStereoCenters. Feature removed!\n",
      "No normalization for Phi. Feature removed!\n",
      "Skipped loading modules with pytorch-geometric dependency, missing a dependency. No module named 'torch_geometric'\n",
      "Skipped loading modules with transformers dependency. No module named 'transformers'\n",
      "cannot import name 'HuggingFaceModel' from 'deepchem.models.torch_models' (/home/lthoma21/.local/lib/python3.10/site-packages/deepchem/models/torch_models/__init__.py)\n",
      "Skipped loading modules with pytorch-geometric dependency, missing a dependency. cannot import name 'DMPNN' from 'deepchem.models.torch_models' (/home/lthoma21/.local/lib/python3.10/site-packages/deepchem/models/torch_models/__init__.py)\n",
      "Skipped loading modules with pytorch-lightning dependency, missing a dependency. No module named 'lightning'\n",
      "Skipped loading some Jax models, missing a dependency. No module named 'jax'\n"
     ]
    }
   ],
   "source": [
    "import os\n",
    "import conda_installer\n",
    "os.environ[\"CUDA_VISIBLE_DEVICES\"] = \"3\"  # Must come BEFORE importing TensorFlow\n",
    "os.environ['XLA_FLAGS'] = '--xla_gpu_cuda_data_dir=/opt/nvidia/cuda/cuda-11.6'\n",
    "import pandas as pd\n",
    "import tensorflow as tf\n",
    "import numpy as np\n",
    "from rdkit import Chem\n",
    "from deepchem.feat.graph_features import atom_features as get_atom_features\n",
    "import rdkit\n",
    "import pickle\n",
    "import copy\n",
    "import matplotlib.pyplot as plt\n",
    "\n",
    "\n",
    "from sklearn.model_selection import train_test_split\n",
    "import importlib\n",
    "import keras.backend as K\n",
    "# import tensorflow_addons as tfa\n",
    "from tensorflow.keras import regularizers, constraints, callbacks\n",
    "\n",
    "import sys\n",
    "from tensorflow.keras.callbacks import EarlyStopping\n",
    "\n",
    "from tensorflow.keras.optimizers.schedules import ExponentialDecay\n",
    "from tensorflow.keras.optimizers import Adam\n"
   ]
  },
  {
   "cell_type": "code",
   "execution_count": 2,
   "id": "cbc957b7",
   "metadata": {},
   "outputs": [],
   "source": [
    "PDBs = pickle.load(open('Datasets/PDBs_TDS_NMA.pkl', 'rb'))\n",
    "df = pd.read_csv('Datasets/NMAEntropy_65.csv')"
   ]
  },
  {
   "cell_type": "code",
   "execution_count": 3,
   "id": "9a16e0f1",
   "metadata": {},
   "outputs": [],
   "source": [
    "#PDBs\n",
    "# df.tail()"
   ]
  },
  {
   "cell_type": "code",
   "execution_count": 4,
   "id": "c78ebba2",
   "metadata": {},
   "outputs": [],
   "source": [
    "# len(PDBs),len(df)"
   ]
  },
  {
   "cell_type": "code",
   "execution_count": 5,
   "id": "7c029905",
   "metadata": {},
   "outputs": [],
   "source": [
    "info = []\n",
    "for pdb in list(PDBs.keys()):\n",
    "    info.append(df[df['complex_name'] == pdb][['TS_comp', 'TS_host', 'TS_ligand']].to_numpy()[0])"
   ]
  },
  {
   "cell_type": "code",
   "execution_count": 6,
   "id": "3bde12eb",
   "metadata": {},
   "outputs": [],
   "source": [
    "# info"
   ]
  },
  {
   "cell_type": "code",
   "execution_count": 7,
   "id": "b6144982",
   "metadata": {},
   "outputs": [],
   "source": [
    "from models.dcFeaturizer import atom_features as get_atom_features\n",
    "def featurize(molecule, info):\n",
    "    \n",
    "    atom_features = []\n",
    "    for atom in molecule.GetAtoms():\n",
    "        new_feature = get_atom_features(atom).tolist()\n",
    "        position = molecule.GetConformer().GetAtomPosition(atom.GetIdx())\n",
    "        new_feature += [atom.GetMass(), atom.GetAtomicNum(),atom.GetFormalCharge()]\n",
    "        new_feature += [position.x, position.y, position.z]\n",
    "        for neighbor in atom.GetNeighbors()[:2]:\n",
    "            neighbor_idx = neighbor.GetIdx()\n",
    "            new_feature += [neighbor_idx]\n",
    "        for i in range(2 - len(atom.GetNeighbors())):\n",
    "            new_feature += [-1]\n",
    "        atom_features.append(np.concatenate([new_feature, info], 0))\n",
    "    # print(len(atom_features[0]))\n",
    "    return np.array(atom_features)"
   ]
  },
  {
   "cell_type": "code",
   "execution_count": 8,
   "id": "15b09977",
   "metadata": {},
   "outputs": [],
   "source": [
    "X = []\n",
    "y = []\n",
    "for i, pdb in enumerate(list(PDBs.keys())):\n",
    "    X.append(featurize(PDBs[pdb], info[i]))\n",
    "    y.append(df[df['complex_name'] == pdb]['DELTA_S'].to_numpy()[0])"
   ]
  },
  {
   "cell_type": "code",
   "execution_count": 9,
   "id": "f14d2f68",
   "metadata": {},
   "outputs": [
    {
     "data": {
      "text/plain": [
       "((71, 41), -1.2985)"
      ]
     },
     "execution_count": 9,
     "metadata": {},
     "output_type": "execute_result"
    }
   ],
   "source": [
    "X[0].shape, y[0]"
   ]
  },
  {
   "cell_type": "code",
   "execution_count": 10,
   "id": "8af81d46",
   "metadata": {},
   "outputs": [
    {
     "data": {
      "text/plain": [
       "65"
      ]
     },
     "execution_count": 10,
     "metadata": {},
     "output_type": "execute_result"
    }
   ],
   "source": [
    "len(y)"
   ]
  },
  {
   "cell_type": "code",
   "execution_count": 11,
   "id": "2722c202",
   "metadata": {},
   "outputs": [],
   "source": [
    "# Split the data into training and testing sets\n",
    "X_train, X_test, y_train, y_test = train_test_split(X, y, test_size=0.2, random_state=42)"
   ]
  },
  {
   "cell_type": "code",
   "execution_count": 12,
   "id": "46b304ac",
   "metadata": {},
   "outputs": [],
   "source": [
    "# len(X_train), len(X_test), len(y_train), len(y_test)"
   ]
  },
  {
   "cell_type": "code",
   "execution_count": 13,
   "id": "6bb0205b",
   "metadata": {},
   "outputs": [],
   "source": [
    "# y_train[0],X_train[0],info[0]"
   ]
  },
  {
   "cell_type": "code",
   "execution_count": 14,
   "id": "a4f5c43a",
   "metadata": {},
   "outputs": [
    {
     "data": {
      "text/plain": [
       "<module 'models.layers_update_mobley' from '/home/lthoma21/BFE-Loss-Function/FINAL-HOSTGUEST-FILES/models/layers_update_mobley.py'>"
      ]
     },
     "execution_count": 14,
     "metadata": {},
     "output_type": "execute_result"
    }
   ],
   "source": [
    "import models.layers_update_mobley as layers\n",
    "from models.dcFeaturizer import atom_features as get_atom_features\n",
    "importlib.reload(layers)"
   ]
  },
  {
   "cell_type": "code",
   "execution_count": 15,
   "id": "d12d5a36",
   "metadata": {},
   "outputs": [],
   "source": [
    "\n",
    "class PGGCNModel(tf.keras.Model):\n",
    "    def __init__(self, num_atom_features=36, r_out_channel=20, c_out_channel=128):\n",
    "        super().__init__()\n",
    "        self.ruleGraphConvLayer = layers.RuleGraphConvLayer(r_out_channel, num_atom_features, 0)\n",
    "        self.ruleGraphConvLayer.combination_rules = []\n",
    "        self.conv = layers.ConvLayer(c_out_channel, r_out_channel)\n",
    "        self.dense1 = tf.keras.layers.Dense(32, activation='relu', name='dense1')\n",
    "        self.dense5 = tf.keras.layers.Dense(16, activation='relu', name='dense2')\n",
    "        self.dense6 = tf.keras.layers.Dense(1, name='dense6')\n",
    "        self.dense7 = tf.keras.layers.Dense(1, name='dense7',\n",
    "                                             kernel_initializer=tf.keras.initializers.Constant([-.3, 1, -1, -1]),\n",
    "                                             bias_initializer=tf.keras.initializers.Zeros())\n",
    "        self.all_layer_1_weights = []\n",
    "\n",
    "    def addRule(self, rule, start_index, end_index=None):\n",
    "        self.ruleGraphConvLayer.addRule(rule, start_index, end_index)\n",
    "\n",
    "    def set_input_shapes(self, i_s):\n",
    "        self.i_s = i_s\n",
    "\n",
    "    def call(self, inputs):\n",
    "        physics_info = inputs[:, 0, 38:]\n",
    "        x_a = []\n",
    "        for i in range(len(self.i_s)):\n",
    "            x_a.append(inputs[i][:self.i_s[i], :38])\n",
    "        x = self.ruleGraphConvLayer(x_a)\n",
    "        self.all_layer_1_weights.append(self.ruleGraphConvLayer.w_s)\n",
    "        x = self.conv(x)\n",
    "        x = self.dense1(x)\n",
    "        x = self.dense5(x)\n",
    "        model_var = self.dense6(x)\n",
    "        merged = tf.concat([model_var, physics_info], axis=1)\n",
    "        out = self.dense7(merged)\n",
    "        return tf.concat([out, physics_info], axis=1)\n",
    "    \n",
    "\n",
    "class LossComponentsCallback(tf.keras.callbacks.Callback):\n",
    "    def __init__(self,model_instance):\n",
    "        super().__init__()\n",
    "        self.empirical_losses = []\n",
    "        self.physical_losses = []\n",
    "        self.total_losses = []\n",
    "        self.learning_rates = []\n",
    "        self.model = model_instance\n",
    "        \n",
    "    def on_epoch_end(self, epoch, logs=None):\n",
    "        logs = logs or {}\n",
    "        # Store the total loss\n",
    "        self.total_losses.append(logs.get('loss'))\n",
    "        lr = self.model.optimizer.learning_rate\n",
    "        if isinstance(lr, tf.keras.optimizers.schedules.LearningRateSchedule):\n",
    "            lr = lr(self.model.optimizer.iterations)  # Call the schedule\n",
    "        else:\n",
    "            lr = lr  \n",
    "\n",
    "        self.learning_rates.append(float(tf.keras.backend.get_value(lr)))\n",
    "\n",
    "\n",
    "    \n",
    "def root_mean_squared_error(y_true, y_pred):\n",
    "    return K.sqrt(K.mean(K.square(y_pred[0] - y_true))) + K.abs(1 / K.mean(.2 + y_pred[1]))\n",
    "\n",
    "\n",
    "def pure_rmse(y_true, y_pred):\n",
    "    # Extract first column of predictions\n",
    "#     dg_pred = y_pred[:, 0]\n",
    "    # Make sure y_true is a 1D tensor by flattening it\n",
    "    y_true_flat = tf.reshape(y_true, [-1])\n",
    "    # Print for debugging\n",
    "#     tf.print(\"dg_pred:\", dg_pred)\n",
    "#     tf.print(\"y_pred\", y_pred)\n",
    "#     tf.print(\"y_true\", y_true)\n",
    "#     tf.print(\"y_true_flat\", y_true_flat) \n",
    "    # Ensure both tensors are 1D for the comparison\n",
    "    return K.sqrt(K.mean(K.square(y_pred - y_true_flat)))\n",
    "\n",
    "def physical_consistency_loss(y_true,y_pred,physics_info):\n",
    "#     y_true = tf.cast(y_true, tf.float32)\n",
    "#     y_pred = tf.cast(y_pred, tf.float32)\n",
    "    dG_pred = y_pred\n",
    "#     y_true = tf.reshape(y_true, (-1, 1))\n",
    "    y_true_flat = tf.reshape(y_true, [-1])\n",
    "\n",
    "    host = tf.gather(physics_info, [1], axis=1)  # Host energy terms\n",
    "    guest = tf.gather(physics_info, [2], axis=1)  # Guest energy terms\n",
    "    complex_ = tf.gather(physics_info, [0], axis=1)  # Complex energy terms\n",
    "\n",
    "    # Calculate ΔG based on physics: ΔG = ΔGcomplex - (ΔGhost + ΔGguest)\n",
    "    dG_physics = tf.reduce_sum(complex_, axis=1, keepdims=True) - (tf.reduce_sum(host, axis=1, keepdims=True) + tf.reduce_sum(guest, axis=1, keepdims=True))\n",
    "    phy_loss = K.sqrt(K.mean(K.square(dG_pred - dG_physics)))\n",
    "    return phy_loss\n",
    "\n",
    "\n",
    "\n",
    "def combined_loss(physics_hyperparam=-0.0003):\n",
    "    def loss_function(y_true, y_pred):\n",
    "        # Extract prediction and physics info\n",
    "        prediction = y_pred[:, 0]\n",
    "        physics_info = y_pred[:, 1:4]  # Assuming 15 physical features\n",
    "        \n",
    "        # Calculate individual loss components\n",
    "        empirical_loss = pure_rmse(y_true, prediction)\n",
    "        physics_loss = physical_consistency_loss(y_true, prediction, physics_info)\n",
    "        \n",
    "        # Combine losses with weights\n",
    "        total_loss = empirical_loss + (physics_hyperparam * physics_loss)\n",
    "        \n",
    "        return total_loss\n",
    "    \n",
    "    return loss_function\n"
   ]
  },
  {
   "cell_type": "code",
   "execution_count": 16,
   "id": "f36efe01",
   "metadata": {},
   "outputs": [
    {
     "name": "stdout",
     "output_type": "stream",
     "text": [
      "---------- Hyperparameter combinations ------------\n",
      "Epoch : 500;  physics_weight: 0.005;\n",
      "Epoch 1/500\n"
     ]
    },
    {
     "name": "stderr",
     "output_type": "stream",
     "text": [
      "2025-04-29 11:55:10.185337: E tensorflow/compiler/xla/stream_executor/cuda/cuda_driver.cc:267] failed call to cuInit: CUDA_ERROR_NO_DEVICE: no CUDA-capable device is detected\n",
      "2025-04-29 11:55:10.185371: I tensorflow/compiler/xla/stream_executor/cuda/cuda_diagnostics.cc:156] kernel driver does not appear to be running on this host (curie.cluster): /proc/driver/nvidia/version does not exist\n",
      "2025-04-29 11:55:10.186063: I tensorflow/core/platform/cpu_feature_guard.cc:193] This TensorFlow binary is optimized with oneAPI Deep Neural Network Library (oneDNN) to use the following CPU instructions in performance-critical operations:  SSE4.1 SSE4.2 AVX AVX2 AVX512F AVX512_VNNI FMA\n",
      "To enable them in other operations, rebuild TensorFlow with the appropriate compiler flags.\n"
     ]
    },
    {
     "name": "stdout",
     "output_type": "stream",
     "text": [
      "WARNING:tensorflow:From /opt/calstatela/mambaforge/lib/python3.10/site-packages/tensorflow/python/autograph/pyct/static_analysis/liveness.py:83: Analyzer.lamba_check (from tensorflow.python.autograph.pyct.static_analysis.liveness) is deprecated and will be removed after 2023-09-23.\n",
      "Instructions for updating:\n",
      "Lambda fuctions will be no more assumed to be used in the statement where they are used, or at least in the same block. https://github.com/tensorflow/tensorflow/issues/56089\n",
      "1/1 [==============================] - 48s 48s/step - loss: 1.4127\n",
      "Epoch 2/500\n",
      "1/1 [==============================] - 1s 606ms/step - loss: 1.9134\n",
      "Epoch 3/500\n",
      "1/1 [==============================] - 1s 509ms/step - loss: 1.4576\n",
      "Epoch 4/500\n",
      "1/1 [==============================] - 1s 515ms/step - loss: 1.5243\n",
      "Epoch 5/500\n",
      "1/1 [==============================] - 1s 704ms/step - loss: 1.6762\n",
      "Epoch 6/500\n",
      "1/1 [==============================] - 1s 712ms/step - loss: 1.5692\n",
      "Epoch 7/500\n",
      "1/1 [==============================] - 1s 712ms/step - loss: 1.4190\n",
      "Epoch 8/500\n",
      "1/1 [==============================] - 1s 673ms/step - loss: 1.4339\n",
      "Epoch 9/500\n",
      "1/1 [==============================] - 1s 690ms/step - loss: 1.5323\n",
      "Epoch 10/500\n",
      "1/1 [==============================] - 1s 681ms/step - loss: 1.5407\n",
      "Epoch 11/500\n",
      "1/1 [==============================] - 1s 673ms/step - loss: 1.4637\n",
      "Epoch 12/500\n",
      "1/1 [==============================] - 1s 684ms/step - loss: 1.4033\n",
      "Epoch 13/500\n",
      "1/1 [==============================] - 1s 677ms/step - loss: 1.4268\n",
      "Epoch 14/500\n",
      "1/1 [==============================] - 1s 657ms/step - loss: 1.4784\n",
      "Epoch 15/500\n",
      "1/1 [==============================] - 1s 664ms/step - loss: 1.4814\n",
      "Epoch 16/500\n",
      "1/1 [==============================] - 1s 710ms/step - loss: 1.4374\n",
      "Epoch 17/500\n",
      "1/1 [==============================] - 1s 655ms/step - loss: 1.4026\n",
      "Epoch 18/500\n",
      "1/1 [==============================] - 1s 600ms/step - loss: 1.4146\n",
      "Epoch 19/500\n",
      "1/1 [==============================] - 1s 689ms/step - loss: 1.4455\n",
      "Epoch 20/500\n",
      "1/1 [==============================] - 1s 646ms/step - loss: 1.4495\n",
      "Epoch 21/500\n",
      "1/1 [==============================] - 1s 657ms/step - loss: 1.4238\n",
      "Epoch 22/500\n",
      "1/1 [==============================] - 1s 637ms/step - loss: 1.4021\n",
      "Epoch 23/500\n",
      "1/1 [==============================] - 1s 683ms/step - loss: 1.4085\n",
      "Epoch 24/500\n",
      "1/1 [==============================] - 1s 623ms/step - loss: 1.4275\n",
      "Epoch 25/500\n",
      "1/1 [==============================] - 1s 682ms/step - loss: 1.4301\n",
      "Epoch 26/500\n",
      "1/1 [==============================] - 1s 671ms/step - loss: 1.4141\n",
      "Epoch 27/500\n",
      "1/1 [==============================] - 1s 671ms/step - loss: 1.4011\n",
      "Epoch 28/500\n",
      "1/1 [==============================] - 1s 632ms/step - loss: 1.4062\n",
      "Epoch 29/500\n",
      "1/1 [==============================] - 1s 635ms/step - loss: 1.4177\n",
      "Epoch 30/500\n",
      "1/1 [==============================] - 1s 550ms/step - loss: 1.4179\n",
      "Epoch 31/500\n",
      "1/1 [==============================] - 1s 682ms/step - loss: 1.4070\n",
      "Epoch 32/500\n",
      "1/1 [==============================] - 1s 631ms/step - loss: 1.4005\n",
      "Epoch 33/500\n",
      "1/1 [==============================] - 1s 636ms/step - loss: 1.4054\n",
      "Epoch 34/500\n",
      "1/1 [==============================] - 1s 691ms/step - loss: 1.4119\n",
      "Epoch 35/500\n",
      "1/1 [==============================] - 1s 674ms/step - loss: 1.4097\n",
      "Epoch 36/500\n",
      "1/1 [==============================] - 1s 649ms/step - loss: 1.4025\n",
      "Epoch 37/500\n",
      "1/1 [==============================] - 1s 651ms/step - loss: 1.4005\n",
      "Epoch 38/500\n",
      "1/1 [==============================] - 1s 513ms/step - loss: 1.4050\n",
      "Epoch 39/500\n",
      "1/1 [==============================] - 1s 681ms/step - loss: 1.4076\n",
      "Epoch 40/500\n",
      "1/1 [==============================] - 1s 652ms/step - loss: 1.4042\n",
      "Epoch 41/500\n",
      "1/1 [==============================] - 1s 683ms/step - loss: 1.4002\n",
      "Epoch 42/500\n",
      "1/1 [==============================] - 1s 660ms/step - loss: 1.4012\n",
      "Epoch 43/500\n",
      "1/1 [==============================] - 1s 680ms/step - loss: 1.4042\n",
      "Epoch 44/500\n",
      "1/1 [==============================] - 1s 678ms/step - loss: 1.4039\n",
      "Epoch 45/500\n",
      "1/1 [==============================] - 1s 678ms/step - loss: 1.4009\n",
      "Epoch 46/500\n",
      "1/1 [==============================] - 1s 625ms/step - loss: 1.3998\n",
      "Epoch 47/500\n",
      "1/1 [==============================] - 1s 650ms/step - loss: 1.4017\n",
      "Epoch 48/500\n",
      "1/1 [==============================] - 1s 690ms/step - loss: 1.4027\n",
      "Epoch 49/500\n",
      "1/1 [==============================] - 1s 545ms/step - loss: 1.4010\n",
      "Epoch 50/500\n",
      "1/1 [==============================] - 1s 690ms/step - loss: 1.3995\n",
      "Epoch 51/500\n",
      "1/1 [==============================] - 1s 694ms/step - loss: 1.4002\n",
      "Epoch 52/500\n",
      "1/1 [==============================] - ETA: 0s - loss: 1.4013Restoring model weights from the end of the best epoch: 32.\n",
      "1/1 [==============================] - 1s 689ms/step - loss: 1.4013\n",
      "Epoch 52: early stopping\n",
      "1/1 [==============================] - 4s 4s/step\n",
      "1/1 [==============================] - 4s 4s/step - loss: 1.9768\n",
      "The mean absolute difference between y_tru & y_pred is : 0.8266061860194573\n"
     ]
    },
    {
     "data": {
      "image/png": "[encoded data removed]",
      "text/plain": [
       "<Figure size 1200x800 with 1 Axes>"
      ]
     },
     "metadata": {},
     "output_type": "display_data"
    }
   ],
   "source": [
    "\n",
    "physics_hyperparam = [0.005]\n",
    "epochs = [500]\n",
    "lr_schedule = ExponentialDecay(\n",
    "        initial_learning_rate=0.005,\n",
    "        decay_steps=10000,\n",
    "        decay_rate=0.9,\n",
    "        staircase=True\n",
    "    )\n",
    "\n",
    "y_differences = []\n",
    "total_losses = []\n",
    "empirical_losses = []\n",
    "physics_losses = []\n",
    "all_results=[]\n",
    "    \n",
    "for epoch in epochs:\n",
    "    for physics_weight in physics_hyperparam:\n",
    "        print(\"---------- Hyperparameter combinations ------------\")\n",
    "        print(\"Epoch : {};  physics_weight: {};\".format(str(epoch),  str(physics_weight)))\n",
    "\n",
    "        m = PGGCNModel()\n",
    "        m.addRule(\"sum\", 0, 32)\n",
    "        m.addRule(\"multiply\", 32, 33)\n",
    "        m.addRule(\"distance\", 33, 36)\n",
    "        opt = tf.keras.optimizers.Adam(learning_rate=lr_schedule)\n",
    "        m.compile(loss=combined_loss(physics_weight), optimizer=opt)\n",
    "        input_shapes = []\n",
    "        for i in range(len(X_train)):\n",
    "            input_shapes.append(np.array(X_train[i]).shape[0])\n",
    "        m.set_input_shapes(input_shapes)\n",
    "        for i in range(len(X_train)):\n",
    "            if X_train[i].shape[0] < 2000:\n",
    "                new_list = np.zeros([2000 - X_train[i].shape[0], 41])\n",
    "                X_train[i] = np.concatenate([X_train[i], new_list], 0)\n",
    "        X_train = np.array(X_train)\n",
    "        y_train = np.array(y_train)\n",
    "        loss_tracker = LossComponentsCallback(m)\n",
    "\n",
    "        # Add early stopping\n",
    "        early_stopping = EarlyStopping(\n",
    "            monitor='loss',           \n",
    "            patience=20,              \n",
    "            restore_best_weights=True, \n",
    "            min_delta=0.001,          \n",
    "            verbose=1                 \n",
    "        )\n",
    "        hist = m.fit(X_train, y_train, epochs = epoch, batch_size=len(X_train),callbacks=[early_stopping,loss_tracker])\n",
    "        \n",
    "        input_shapes = []\n",
    "        for i in range(len(X_test)):\n",
    "            input_shapes.append(np.array(X_test[i]).shape[0])\n",
    "        m.set_input_shapes(input_shapes)\n",
    "\n",
    "        for i in range(len(X_test)):\n",
    "            if X_test[i].shape[0] < 2000:\n",
    "                new_list = np.zeros([2000 - X_test[i].shape[0], 41])\n",
    "                X_test[i] = np.concatenate([X_test[i], new_list], 0)\n",
    "        X_test = np.array(X_test)\n",
    "        x_c = copy.deepcopy(X_test)\n",
    "        y_test = np.array(y_test)\n",
    "        y_pred_test = m.predict(X_test)\n",
    "        y_pred_test = np.array(y_pred_test[:,0])\n",
    "\n",
    "        y_difference = np.mean(np.abs(np.abs(y_test) - np.abs(y_pred_test)))\n",
    "        eval = m.evaluate(X_test, y_test)\n",
    "        print(\"The mean absolute difference between y_tru & y_pred is : {}\" .format(str(y_difference)))\n",
    "\n",
    "        final_train_loss = loss_tracker.total_losses[-1] if loss_tracker.total_losses else None\n",
    "\n",
    "    # Plot all loss components over epochs\n",
    "    plt.figure(figsize=(12, 8))\n",
    "\n",
    "    epoch_length = range(1, len(loss_tracker.total_losses) + 1)\n",
    "\n",
    "    # Total loss\n",
    "    plt.subplot(2, 2, 1)\n",
    "    plt.plot(epoch_length, loss_tracker.total_losses, 'b-', label='Total Loss')\n",
    "    plt.title('Total Loss')\n",
    "    plt.xlabel('Epochs')\n",
    "    plt.ylabel('Loss')\n",
    "    plt.legend()\n"
   ]
  }
 ],
 "metadata": {
  "kernelspec": {
   "display_name": "Python 3 (ipykernel)",
   "language": "python",
   "name": "python3"
  },
  "language_info": {
   "codemirror_mode": {
    "name": "ipython",
    "version": 3
   },
   "file_extension": ".py",
   "mimetype": "text/x-python",
   "name": "python",
   "nbconvert_exporter": "python",
   "pygments_lexer": "ipython3",
   "version": "3.10.11"
  }
 },
 "nbformat": 4,
 "nbformat_minor": 5
}
