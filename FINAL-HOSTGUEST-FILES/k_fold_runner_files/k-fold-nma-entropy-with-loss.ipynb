{
 "cells": [
  {
   "cell_type": "code",
   "execution_count": 1,
   "id": "e3518e17",
   "metadata": {
    "scrolled": true
   },
   "outputs": [
    {
     "name": "stderr",
     "output_type": "stream",
     "text": [
      "2025-05-01 14:40:52.890246: I tensorflow/core/platform/cpu_feature_guard.cc:193] This TensorFlow binary is optimized with oneAPI Deep Neural Network Library (oneDNN) to use the following CPU instructions in performance-critical operations:  SSE4.1 SSE4.2 AVX AVX2 AVX512F AVX512_VNNI FMA\n",
      "To enable them in other operations, rebuild TensorFlow with the appropriate compiler flags.\n",
      "2025-05-01 14:40:52.963328: I tensorflow/core/util/port.cc:104] oneDNN custom operations are on. You may see slightly different numerical results due to floating-point round-off errors from different computation orders. To turn them off, set the environment variable `TF_ENABLE_ONEDNN_OPTS=0`.\n",
      "No normalization for SPS. Feature removed!\n",
      "No normalization for AvgIpc. Feature removed!\n",
      "No normalization for NumAmideBonds. Feature removed!\n",
      "No normalization for NumAtomStereoCenters. Feature removed!\n",
      "No normalization for NumBridgeheadAtoms. Feature removed!\n",
      "No normalization for NumHeterocycles. Feature removed!\n",
      "No normalization for NumSpiroAtoms. Feature removed!\n",
      "No normalization for NumUnspecifiedAtomStereoCenters. Feature removed!\n",
      "No normalization for Phi. Feature removed!\n",
      "Skipped loading modules with pytorch-geometric dependency, missing a dependency. No module named 'torch_geometric'\n",
      "Skipped loading modules with transformers dependency. No module named 'transformers'\n",
      "cannot import name 'HuggingFaceModel' from 'deepchem.models.torch_models' (/home/lthoma21/.local/lib/python3.10/site-packages/deepchem/models/torch_models/__init__.py)\n",
      "Skipped loading modules with pytorch-geometric dependency, missing a dependency. cannot import name 'DMPNN' from 'deepchem.models.torch_models' (/home/lthoma21/.local/lib/python3.10/site-packages/deepchem/models/torch_models/__init__.py)\n",
      "Skipped loading modules with pytorch-lightning dependency, missing a dependency. No module named 'lightning'\n",
      "Skipped loading some Jax models, missing a dependency. No module named 'jax'\n"
     ]
    }
   ],
   "source": [
    "import pandas as pd\n",
    "import tensorflow as tf\n",
    "import numpy as np\n",
    "import os\n",
    "import conda_installer\n",
    "from rdkit import Chem\n",
    "from deepchem.feat.graph_features import atom_features as get_atom_features\n",
    "import rdkit\n",
    "import pickle\n",
    "import matplotlib.pyplot as plt\n",
    "from models.PGCN_model_multiloss import get_trained_model, test_model"
   ]
  },
  {
   "cell_type": "code",
   "execution_count": 2,
   "id": "711d5cc8",
   "metadata": {},
   "outputs": [],
   "source": [
    "X_folds= pickle.load(open('Datasets/X_folds_NMA_4.pkl', 'rb'))\n",
    "y_folds = pickle.load(open('Datasets/y_folds_NMA_4.pkl', 'rb'))"
   ]
  },
  {
   "cell_type": "code",
   "execution_count": 4,
   "id": "a4e25ef5",
   "metadata": {},
   "outputs": [
    {
     "name": "stdout",
     "output_type": "stream",
     "text": [
      "Epoch 1/2\n",
      "Inside call\n",
      "Inside call\n",
      "1/1 [==============================] - 44s 44s/step - loss: 1.6128\n",
      "Epoch 2/2\n",
      "1/1 [==============================] - 1s 647ms/step - loss: 2.2013\n",
      "Inside call\n",
      "1/1 [==============================] - 20s 20s/step\n",
      "Inside call\n",
      "1/1 [==============================] - 6s 6s/step\n",
      "Inside call\n",
      "1/1 [==============================] - 6s 6s/step - loss: 1.6771\n",
      "1/1 [==============================] - 1s 955ms/step\n",
      "Epoch 1/2\n",
      "Inside call\n",
      "Inside call\n",
      "1/1 [==============================] - 52s 52s/step - loss: 1.4364\n",
      "Epoch 2/2\n",
      "1/1 [==============================] - 5s 5s/step - loss: 1.9317\n",
      "Inside call\n",
      "WARNING:tensorflow:5 out of the last 6 calls to <function Model.make_predict_function.<locals>.predict_function at 0x1520f6f78550> triggered tf.function retracing. Tracing is expensive and the excessive number of tracings could be due to (1) creating @tf.function repeatedly in a loop, (2) passing tensors with different shapes, (3) passing Python objects instead of tensors. For (1), please define your @tf.function outside of the loop. For (2), @tf.function has reduce_retracing=True option that can avoid unnecessary retracing. For (3), please refer to https://www.tensorflow.org/guide/function#controlling_retracing and https://www.tensorflow.org/api_docs/python/tf/function for  more details.\n",
      "1/1 [==============================] - 17s 17s/step\n",
      "Inside call\n",
      "WARNING:tensorflow:6 out of the last 7 calls to <function Model.make_predict_function.<locals>.predict_function at 0x1520f6f78550> triggered tf.function retracing. Tracing is expensive and the excessive number of tracings could be due to (1) creating @tf.function repeatedly in a loop, (2) passing tensors with different shapes, (3) passing Python objects instead of tensors. For (1), please define your @tf.function outside of the loop. For (2), @tf.function has reduce_retracing=True option that can avoid unnecessary retracing. For (3), please refer to https://www.tensorflow.org/guide/function#controlling_retracing and https://www.tensorflow.org/api_docs/python/tf/function for  more details.\n",
      "1/1 [==============================] - 6s 6s/step\n",
      "Inside call\n",
      "1/1 [==============================] - 9s 9s/step - loss: 2.1456\n",
      "1/1 [==============================] - 0s 71ms/step\n",
      "Epoch 1/2\n",
      "Inside call\n",
      "Inside call\n",
      "1/1 [==============================] - 52s 52s/step - loss: 1.6473\n",
      "Epoch 2/2\n",
      "1/1 [==============================] - 7s 7s/step - loss: 2.1763\n",
      "Inside call\n",
      "1/1 [==============================] - 22s 22s/step\n",
      "Inside call\n",
      "1/1 [==============================] - 6s 6s/step\n",
      "Inside call\n",
      "1/1 [==============================] - 5s 5s/step - loss: 1.4559\n",
      "1/1 [==============================] - 0s 63ms/step\n",
      "Epoch 1/2\n",
      "Inside call\n",
      "Inside call\n",
      "WARNING:tensorflow:5 out of the last 9 calls to <function Model.make_train_function.<locals>.train_function at 0x15210f75dab0> triggered tf.function retracing. Tracing is expensive and the excessive number of tracings could be due to (1) creating @tf.function repeatedly in a loop, (2) passing tensors with different shapes, (3) passing Python objects instead of tensors. For (1), please define your @tf.function outside of the loop. For (2), @tf.function has reduce_retracing=True option that can avoid unnecessary retracing. For (3), please refer to https://www.tensorflow.org/guide/function#controlling_retracing and https://www.tensorflow.org/api_docs/python/tf/function for  more details.\n",
      "1/1 [==============================] - 53s 53s/step - loss: 1.6713\n",
      "Epoch 2/2\n",
      "1/1 [==============================] - 10s 10s/step - loss: 2.1878\n",
      "Inside call\n",
      "1/1 [==============================] - 23s 23s/step\n",
      "Inside call\n",
      "1/1 [==============================] - 6s 6s/step\n",
      "Inside call\n",
      "WARNING:tensorflow:5 out of the last 5 calls to <function Model.make_test_function.<locals>.test_function at 0x15210ef69240> triggered tf.function retracing. Tracing is expensive and the excessive number of tracings could be due to (1) creating @tf.function repeatedly in a loop, (2) passing tensors with different shapes, (3) passing Python objects instead of tensors. For (1), please define your @tf.function outside of the loop. For (2), @tf.function has reduce_retracing=True option that can avoid unnecessary retracing. For (3), please refer to https://www.tensorflow.org/guide/function#controlling_retracing and https://www.tensorflow.org/api_docs/python/tf/function for  more details.\n",
      "1/1 [==============================] - 5s 5s/step - loss: 1.3981\n",
      "1/1 [==============================] - 0s 64ms/step\n"
     ]
    }
   ],
   "source": [
    "K = 4\n",
    "epoch = 2\n",
    "hists = []\n",
    "test_loss = []\n",
    "predicts_train = []\n",
    "predicts_test = []\n",
    "y_diff = []\n",
    "\n",
    "for k in range(K):\n",
    "    X_train = []\n",
    "    for i in range(K):\n",
    "        if i != k:\n",
    "            X_train += X_folds[i]\n",
    "    X_test = X_folds[k]\n",
    "    y_train = np.concatenate(np.array([y_folds[i] for i in range(K) if i != k]), 0)\n",
    "    y_test = np.array(y_folds[k])\n",
    "    #  Passing the X_train and x_add_train to train the model.\n",
    "    hs, m, x_converted = get_trained_model(X_train, y_train, epochs = epoch, physics_weight = 0.005,max_num_atoms = 2000, n_features = 41)\n",
    "    with open('Datasets/PGCN_vm2_ent_K%d_W_n.pkl' % k, 'wb') as f:\n",
    "        pickle.dump([m.layers[0].w_n, m.layers[0].w_n], f)\n",
    "        f.close()\n",
    "    predicts_train.append(m.predict(x_converted, batch_size=len(X_train)))\n",
    "    hists.append(hs)\n",
    "    X_test[0].shape\n",
    "    k_loss,y_difference, x_converted = test_model(X_test, y_test, m, max_num_atoms = 2000, n_features = 41)\n",
    "    test_loss.append(k_loss)\n",
    "    y_diff.append(y_difference)\n",
    "    predicts_test.append(m.predict(x_converted, batch_size=len(X_test)))\n",
    "    "
   ]
  },
  {
   "cell_type": "code",
   "execution_count": 5,
   "id": "734ba6df",
   "metadata": {},
   "outputs": [],
   "source": [
    "# with open('PGCN_NMA_MultiLoss_K%d_fold_hists.pkl' % K, 'wb') as file:\n",
    "#     pickle.dump(hists, file)\n",
    "# with open('PGCN_NMA_MultiLoss_K%d_fold_test.pkl' % K, 'wb') as file:\n",
    "#     pickle.dump(test_loss, file)\n",
    "# with open('PGCN_NMA_MultiLoss_K%d_fold_train_pred.pkl' % K, 'wb') as file:\n",
    "#     pickle.dump(predicts_train, file)\n",
    "# with open('PGCN_NMA_MultiLoss_K%d_fold_test_pred.pkl' % K, 'wb') as file:\n",
    "#     pickle.dump(predicts_test, file)"
   ]
  },
  {
   "cell_type": "code",
   "execution_count": 1,
   "id": "f5e5b9ba",
   "metadata": {},
   "outputs": [],
   "source": [
    "import pickle\n",
    "import numpy as np\n",
    "K = 4\n",
    "PGCN_PG_hists = pickle.load(open('Datasets/PGCN_NMA_MultiLoss_K4_fold_hists.pkl', 'rb'))\n",
    "PGCN_PG_loss = np.array(pickle.load(open('Datasets/PGCN_NMA_MultiLoss_K4_fold_test.pkl', 'rb')))\n",
    "PGCN_PG_pred = pickle.load(open('Datasets/PGCN_NMA_MultiLoss_K4_fold_train_pred.pkl', 'rb'))\n"
   ]
  },
  {
   "cell_type": "code",
   "execution_count": 5,
   "id": "2093713d",
   "metadata": {},
   "outputs": [],
   "source": [
    "Test_loss = PGCN_PG_loss"
   ]
  },
  {
   "cell_type": "code",
   "execution_count": 10,
   "id": "f427a3ac",
   "metadata": {},
   "outputs": [],
   "source": [
    "train_loss = [PGCN_PG_hists[0][-1],PGCN_PG_hists[1][-1],PGCN_PG_hists[2][-1],PGCN_PG_hists[3][-1]]"
   ]
  },
  {
   "cell_type": "code",
   "execution_count": 11,
   "id": "9717a706",
   "metadata": {},
   "outputs": [
    {
     "data": {
      "text/plain": [
       "[1.5935277938842773, 1.3902627229690552, 1.626702904701233, 1.6456166505813599]"
      ]
     },
     "execution_count": 11,
     "metadata": {},
     "output_type": "execute_result"
    }
   ],
   "source": [
    "train_loss"
   ]
  },
  {
   "cell_type": "code",
   "execution_count": 6,
   "id": "1711816b",
   "metadata": {},
   "outputs": [
    {
     "data": {
      "text/plain": [
       "array([1.56434155, 2.07936954, 1.41159272, 1.33010435])"
      ]
     },
     "execution_count": 6,
     "metadata": {},
     "output_type": "execute_result"
    }
   ],
   "source": [
    "Test_loss"
   ]
  },
  {
   "cell_type": "code",
   "execution_count": null,
   "id": "52e9e679",
   "metadata": {},
   "outputs": [],
   "source": [
    "import matplotlib.pyplot as plt\n",
    "\n",
    "plt.figure(figsize=(5, 5))\n",
    "plt.title(\"ΔG Comparison between Empirical and Structural Error\")\n",
    "plt.scatter(y_test, y_pred_test_struct, alpha=0.9,color=\"blue\", label = \"Structural Error\")\n",
    "plt.scatter(y_test, y_pred_test_nohyb, alpha=0.7,color=\"orange\", label=\"PURE RMSE\")\n",
    "plt.scatter(y_test, hybrid_y_pred, alpha=0.6,color=\"purple\", label=\"Multi-Loss\")\n",
    "\n",
    "plt.xlabel(\"Experimental ΔG (y_true)\")\n",
    "plt.ylabel(\"Predicted ΔG (y_pred)\")\n",
    "plt.xlim(-1,12)\n",
    "plt.ylim(-1, 12)\n",
    "\n",
    "# Reference y = x line\n",
    "plt.plot([-1, 12], [-1, 12], color='green', lw=1, linestyle='--')\n",
    "\n",
    "plt.legend()\n",
    "plt.tight_layout()\n",
    "\n",
    "plt.savefig('Emp_Struct_Phy_Loss.png.png', dpi=300, bbox_inches='tight')\n",
    "plt.show()"
   ]
  },
  {
   "cell_type": "code",
   "execution_count": 8,
   "id": "811011bc",
   "metadata": {},
   "outputs": [
    {
     "data": {
      "text/plain": [
       "array([1.56434155, 2.07936954, 1.41159272, 1.33010435])"
      ]
     },
     "execution_count": 8,
     "metadata": {},
     "output_type": "execute_result"
    }
   ],
   "source": [
    "PGCN_PG_loss"
   ]
  },
  {
   "cell_type": "code",
   "execution_count": 3,
   "id": "a8b8de77",
   "metadata": {},
   "outputs": [
    {
     "data": {
      "image/png": "[encoded data removed]",
      "text/plain": [
       "<Figure size 750x500 with 1 Axes>"
      ]
     },
     "metadata": {},
     "output_type": "display_data"
    }
   ],
   "source": [
    "import matplotlib.pyplot as plt\n",
    "from matplotlib.pyplot import figure\n",
    "import matplotlib\n",
    "\n",
    "font = {'family' : 'serif',\n",
    "        'weight' : 'bold',\n",
    "        'size'   : 20}\n",
    "\n",
    "matplotlib.rc('font', **font)\n",
    "figure(figsize=(15, 10), dpi=50)\n",
    "for i in range(K):\n",
    "    plt.plot(np.array(PGCN_PG_hists[i][0:50]) - .1, label='K = %d' % (i + 1), linewidth=4)\n",
    "plt.xlabel('Epoch')\n",
    "plt.ylabel('Total Loss (kcal/mol)')\n",
    "\n",
    "plt.legend()\n",
    "plt.savefig('Graphs/PGCN_NMA_Multiloss_K_fold.png')"
   ]
  },
  {
   "cell_type": "code",
   "execution_count": 9,
   "id": "cb85e06c",
   "metadata": {},
   "outputs": [
    {
     "name": "stdout",
     "output_type": "stream",
     "text": [
      "/home/lthoma21/BFE-Loss-Function\n"
     ]
    }
   ],
   "source": [
    "%cd .."
   ]
  },
  {
   "cell_type": "code",
   "execution_count": 16,
   "id": "c39f57c4",
   "metadata": {},
   "outputs": [
    {
     "name": "stdout",
     "output_type": "stream",
     "text": [
      "WARNING:tensorflow:5 out of the last 5 calls to <function Model.make_test_function.<locals>.test_function at 0x1526ce243b50> triggered tf.function retracing. Tracing is expensive and the excessive number of tracings could be due to (1) creating @tf.function repeatedly in a loop, (2) passing tensors with different shapes, (3) passing Python objects instead of tensors. For (1), please define your @tf.function outside of the loop. For (2), @tf.function has reduce_retracing=True option that can avoid unnecessary retracing. For (3), please refer to https://www.tensorflow.org/guide/function#controlling_retracing and https://www.tensorflow.org/api_docs/python/tf/function for  more details.\n",
      "1/1 [==============================] - 2s 2s/step - loss: 26.6978\n"
     ]
    }
   ],
   "source": [
    "X_fold_test= pickle.load(open('X_folds_test_LT_4.pkl', 'rb'))\n",
    "y_fold_test = pickle.load(open('y_folds_test_LT_4.pkl', 'rb'))\n",
    "k_loss, x_converted = test_model(X_fold_test, y_fold_test, m)\n",
    "\n",
    "# check size after this"
   ]
  },
  {
   "cell_type": "code",
   "execution_count": 12,
   "id": "4a78ace3",
   "metadata": {},
   "outputs": [
    {
     "data": {
      "text/plain": [
       "2.74"
      ]
     },
     "execution_count": 12,
     "metadata": {},
     "output_type": "execute_result"
    }
   ],
   "source": [
    "# X_test.shape\n",
    "# y_fold_test[0]\n",
    "\n",
    "\n",
    "# y_fold_test = np.array(y_fold_test)"
   ]
  },
  {
   "cell_type": "code",
   "execution_count": 21,
   "id": "bd0ac673",
   "metadata": {},
   "outputs": [],
   "source": [
    "# # input_shapes_brd4 = []\n",
    "# # print(\"X_test shape before evaluate:\", X_fold_test[0].shape)\n",
    "# # for i in range(len(X_fold_test)):\n",
    "# #     input_shapes_brd4.append(np.array(X_fold_test[i]).shape[0])\n",
    "# # m.set_input_shapes(input_shapes_brd4)\n",
    "# # print(m.i_s)\n",
    "# # for i in range(len(X_fold_test)):\n",
    "# #     if X_fold_test[i].shape[0] < 2000:\n",
    "# #         new_list = np.zeros([2000 - X_fold_test[i].shape[0], 41])\n",
    "# #         X_fold_test[i] = np.concatenate([X_fold_test[i], new_list], 0)   \n",
    "# # print(\"X_test shape after evaluate:\", X_fold_test[0].shape)\n",
    "# # predicts_train.append(m.predict(x_converted, batch_size=len(X_fold_test)))\n",
    "\n",
    "\n",
    "# input_shapes = []\n",
    "# y_test = y_folds[int(.8*len(X_folds)):]\n",
    "# for i in range(len(X_test)):\n",
    "#     input_shapes.append(np.array(X_test[i]).shape[0])\n",
    "# m.set_input_shapes(input_shapes)\n",
    "# for i in range(len(X_test)):\n",
    "#     if X_test[i].shape[0] < 2000:\n",
    "#         new_list = np.zeros([2000 - X_test[i].shape[0], 41])\n",
    "#         X_test[i] = np.concatenate([X_test[i], new_list], 0)\n",
    "# X_test = np.array(X_test)\n",
    "# y_test = np.array(y_test)\n",
    "# m.evaluate(X_test, y_test)\n"
   ]
  },
  {
   "cell_type": "code",
   "execution_count": 22,
   "id": "ffdc667b",
   "metadata": {},
   "outputs": [],
   "source": [
    "# input_shapes = []\n",
    "\n",
    "\n",
    "# m.set_input_shapes(input_shapes)\n",
    "# for i in range(len(X_fold_test)):\n",
    "#     if X_fold_test[i].shape[0] < 2000:\n",
    "#         new_list = np.zeros([2000 - X_fold_test[i].shape[0], 41])\n",
    "#         X_fold_test[i] = np.concatenate([X_fold_test[i], new_list], 0)\n",
    "\n",
    "# X_fold_test = np.array(X_fold_test)\n",
    "# y_fold_test = np.array(y_fold_test)\n",
    "# m.evaluate(X_fold_test, y_fold_test)"
   ]
  },
  {
   "cell_type": "code",
   "execution_count": null,
   "id": "eb03d391",
   "metadata": {},
   "outputs": [],
   "source": []
  },
  {
   "cell_type": "code",
   "execution_count": null,
   "id": "e860ee37",
   "metadata": {},
   "outputs": [],
   "source": []
  },
  {
   "cell_type": "code",
   "execution_count": 30,
   "id": "a43dd100",
   "metadata": {},
   "outputs": [
    {
     "name": "stdout",
     "output_type": "stream",
     "text": [
      "1/1 [==============================] - 0s 173ms/step - loss: 3.6865\n",
      "1/1 [==============================] - 0s 172ms/step\n"
     ]
    }
   ],
   "source": [
    "# k_loss, x_converted = test_model(X_test, y_test, m)\n",
    "\n",
    "# predicts_test.append(m.predict(x_converted, batch_size=len(X_test)))"
   ]
  },
  {
   "cell_type": "code",
   "execution_count": 100,
   "id": "8e0371cb",
   "metadata": {},
   "outputs": [],
   "source": []
  },
  {
   "cell_type": "code",
   "execution_count": 80,
   "id": "569d845f",
   "metadata": {},
   "outputs": [
    {
     "data": {
      "text/plain": [
       "(2000, 41)"
      ]
     },
     "execution_count": 80,
     "metadata": {},
     "output_type": "execute_result"
    }
   ],
   "source": [
    "# X_test[0].shape"
   ]
  },
  {
   "cell_type": "code",
   "execution_count": null,
   "id": "eacd9e55",
   "metadata": {},
   "outputs": [],
   "source": []
  }
 ],
 "metadata": {
  "kernelspec": {
   "display_name": "Python 3 (ipykernel)",
   "language": "python",
   "name": "python3"
  },
  "language_info": {
   "codemirror_mode": {
    "name": "ipython",
    "version": 3
   },
   "file_extension": ".py",
   "mimetype": "text/x-python",
   "name": "python",
   "nbconvert_exporter": "python",
   "pygments_lexer": "ipython3",
   "version": "3.10.11"
  }
 },
 "nbformat": 4,
 "nbformat_minor": 5
}
