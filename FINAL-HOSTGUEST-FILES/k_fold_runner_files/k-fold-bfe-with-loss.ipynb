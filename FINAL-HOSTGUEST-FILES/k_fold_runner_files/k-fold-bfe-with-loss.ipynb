{
 "cells": [
  {
   "cell_type": "code",
   "execution_count": 2,
   "id": "e3518e17",
   "metadata": {
    "scrolled": true
   },
   "outputs": [
    {
     "name": "stderr",
     "output_type": "stream",
     "text": [
      "2025-05-02 00:33:37.826648: I tensorflow/core/platform/cpu_feature_guard.cc:193] This TensorFlow binary is optimized with oneAPI Deep Neural Network Library (oneDNN) to use the following CPU instructions in performance-critical operations:  SSE4.1 SSE4.2 AVX AVX2 AVX512F AVX512_VNNI FMA\n",
      "To enable them in other operations, rebuild TensorFlow with the appropriate compiler flags.\n",
      "2025-05-02 00:33:37.892526: I tensorflow/core/util/port.cc:104] oneDNN custom operations are on. You may see slightly different numerical results due to floating-point round-off errors from different computation orders. To turn them off, set the environment variable `TF_ENABLE_ONEDNN_OPTS=0`.\n",
      "No normalization for SPS. Feature removed!\n",
      "No normalization for AvgIpc. Feature removed!\n",
      "No normalization for NumAmideBonds. Feature removed!\n",
      "No normalization for NumAtomStereoCenters. Feature removed!\n",
      "No normalization for NumBridgeheadAtoms. Feature removed!\n",
      "No normalization for NumHeterocycles. Feature removed!\n",
      "No normalization for NumSpiroAtoms. Feature removed!\n",
      "No normalization for NumUnspecifiedAtomStereoCenters. Feature removed!\n",
      "No normalization for Phi. Feature removed!\n",
      "Skipped loading modules with pytorch-geometric dependency, missing a dependency. No module named 'torch_geometric'\n",
      "Skipped loading modules with transformers dependency. No module named 'transformers'\n",
      "cannot import name 'HuggingFaceModel' from 'deepchem.models.torch_models' (/home/lthoma21/.local/lib/python3.10/site-packages/deepchem/models/torch_models/__init__.py)\n",
      "Skipped loading modules with pytorch-geometric dependency, missing a dependency. cannot import name 'DMPNN' from 'deepchem.models.torch_models' (/home/lthoma21/.local/lib/python3.10/site-packages/deepchem/models/torch_models/__init__.py)\n",
      "Skipped loading modules with pytorch-lightning dependency, missing a dependency. No module named 'lightning'\n",
      "Skipped loading some Jax models, missing a dependency. No module named 'jax'\n"
     ]
    }
   ],
   "source": [
    "import pandas as pd\n",
    "import tensorflow as tf\n",
    "import numpy as np\n",
    "import os\n",
    "import conda_installer\n",
    "from rdkit import Chem\n",
    "from deepchem.feat.graph_features import atom_features as get_atom_features\n",
    "import rdkit\n",
    "import pickle\n",
    "import matplotlib.pyplot as plt\n",
    "from models.PGCN_model_multiloss_bfe import get_trained_model, test_model"
   ]
  },
  {
   "cell_type": "code",
   "execution_count": 3,
   "id": "711d5cc8",
   "metadata": {},
   "outputs": [],
   "source": [
    "X_folds= pickle.load(open('Datasets/X_folds_BFE_4.pkl', 'rb'))\n",
    "y_folds = pickle.load(open('Datasets/y_folds_BFE_4.pkl', 'rb'))"
   ]
  },
  {
   "cell_type": "code",
   "execution_count": 4,
   "id": "a4e25ef5",
   "metadata": {},
   "outputs": [
    {
     "name": "stdout",
     "output_type": "stream",
     "text": [
      "Epoch 1/2\n"
     ]
    },
    {
     "name": "stderr",
     "output_type": "stream",
     "text": [
      "2025-05-02 00:33:53.342223: E tensorflow/compiler/xla/stream_executor/cuda/cuda_driver.cc:267] failed call to cuInit: CUDA_ERROR_NO_DEVICE: no CUDA-capable device is detected\n",
      "2025-05-02 00:33:53.342256: I tensorflow/compiler/xla/stream_executor/cuda/cuda_diagnostics.cc:156] kernel driver does not appear to be running on this host (curie.cluster): /proc/driver/nvidia/version does not exist\n",
      "2025-05-02 00:33:53.343064: I tensorflow/core/platform/cpu_feature_guard.cc:193] This TensorFlow binary is optimized with oneAPI Deep Neural Network Library (oneDNN) to use the following CPU instructions in performance-critical operations:  SSE4.1 SSE4.2 AVX AVX2 AVX512F AVX512_VNNI FMA\n",
      "To enable them in other operations, rebuild TensorFlow with the appropriate compiler flags.\n"
     ]
    },
    {
     "name": "stdout",
     "output_type": "stream",
     "text": [
      "Inside call\n",
      "WARNING:tensorflow:From /opt/calstatela/mambaforge/lib/python3.10/site-packages/tensorflow/python/autograph/pyct/static_analysis/liveness.py:83: Analyzer.lamba_check (from tensorflow.python.autograph.pyct.static_analysis.liveness) is deprecated and will be removed after 2023-09-23.\n",
      "Instructions for updating:\n",
      "Lambda fuctions will be no more assumed to be used in the statement where they are used, or at least in the same block. https://github.com/tensorflow/tensorflow/issues/56089\n",
      "Inside call\n",
      "1/1 [==============================] - 50s 50s/step - loss: 9.4262\n",
      "Epoch 2/2\n",
      "1/1 [==============================] - 1s 712ms/step - loss: 16.2409\n",
      "Inside call\n",
      "1/1 [==============================] - 19s 19s/step\n",
      "Inside call\n",
      "1/1 [==============================] - 6s 6s/step\n",
      "Inside call\n",
      "1/1 [==============================] - 7s 7s/step - loss: 7.9957\n",
      "1/1 [==============================] - 0s 70ms/step\n",
      "Epoch 1/2\n",
      "Inside call\n",
      "Inside call\n",
      "1/1 [==============================] - 53s 53s/step - loss: 8.3503\n",
      "Epoch 2/2\n",
      "1/1 [==============================] - 5s 5s/step - loss: 9.8428\n",
      "Inside call\n",
      "1/1 [==============================] - 22s 22s/step\n",
      "Inside call\n",
      "1/1 [==============================] - 6s 6s/step\n",
      "Inside call\n",
      "1/1 [==============================] - 9s 9s/step - loss: 10.5759\n",
      "1/1 [==============================] - 0s 72ms/step\n",
      "Epoch 1/2\n",
      "Inside call\n",
      "Inside call\n",
      "1/1 [==============================] - 57s 57s/step - loss: 9.0105\n",
      "Epoch 2/2\n",
      "1/1 [==============================] - 7s 7s/step - loss: 16.3189\n",
      "Inside call\n",
      "WARNING:tensorflow:5 out of the last 7 calls to <function Model.make_predict_function.<locals>.predict_function at 0x14f55ff7fbe0> triggered tf.function retracing. Tracing is expensive and the excessive number of tracings could be due to (1) creating @tf.function repeatedly in a loop, (2) passing tensors with different shapes, (3) passing Python objects instead of tensors. For (1), please define your @tf.function outside of the loop. For (2), @tf.function has reduce_retracing=True option that can avoid unnecessary retracing. For (3), please refer to https://www.tensorflow.org/guide/function#controlling_retracing and https://www.tensorflow.org/api_docs/python/tf/function for  more details.\n",
      "1/1 [==============================] - 23s 23s/step\n",
      "Inside call\n",
      "WARNING:tensorflow:6 out of the last 8 calls to <function Model.make_predict_function.<locals>.predict_function at 0x14f55ff7fbe0> triggered tf.function retracing. Tracing is expensive and the excessive number of tracings could be due to (1) creating @tf.function repeatedly in a loop, (2) passing tensors with different shapes, (3) passing Python objects instead of tensors. For (1), please define your @tf.function outside of the loop. For (2), @tf.function has reduce_retracing=True option that can avoid unnecessary retracing. For (3), please refer to https://www.tensorflow.org/guide/function#controlling_retracing and https://www.tensorflow.org/api_docs/python/tf/function for  more details.\n",
      "1/1 [==============================] - 6s 6s/step\n",
      "Inside call\n",
      "1/1 [==============================] - 6s 6s/step - loss: 7.5346\n",
      "1/1 [==============================] - 0s 77ms/step\n",
      "Epoch 1/2\n",
      "Inside call\n",
      "Inside call\n",
      "1/1 [==============================] - 64s 64s/step - loss: 8.5631\n",
      "Epoch 2/2\n",
      "1/1 [==============================] - 11s 11s/step - loss: 14.7253\n",
      "Inside call\n",
      "1/1 [==============================] - 29s 29s/step\n",
      "Inside call\n",
      "1/1 [==============================] - 7s 7s/step\n",
      "Inside call\n",
      "1/1 [==============================] - 6s 6s/step - loss: 6.8624\n",
      "1/1 [==============================] - 0s 75ms/step\n"
     ]
    }
   ],
   "source": [
    "K = 4\n",
    "epoch = 2\n",
    "hists = []\n",
    "test_loss = []\n",
    "predicts_train = []\n",
    "predicts_test = []\n",
    "y_diff = []\n",
    "y_tests=[]\n",
    "\n",
    "for k in range(K):\n",
    "    X_train = []\n",
    "    for i in range(K):\n",
    "        if i != k:\n",
    "            X_train += X_folds[i]\n",
    "    X_test = X_folds[k]\n",
    "    y_train = np.concatenate(np.array([y_folds[i] for i in range(K) if i != k]), 0)\n",
    "    y_test = np.array(y_folds[k])\n",
    "    #  Passing the X_train and x_add_train to train the model.\n",
    "    hs, m, x_converted = get_trained_model(X_train, y_train, epochs = epoch, physics_weight = 0.005,max_num_atoms = 2000, n_features = 53)\n",
    "    with open('Datasets/PGCN_bfe_K%d_W_n.pkl' % k, 'wb') as f:\n",
    "        pickle.dump([m.layers[0].w_n, m.layers[0].w_n], f)\n",
    "        f.close()\n",
    "    predicts_train.append(m.predict(x_converted, batch_size=len(X_train)))\n",
    "    hists.append(hs)\n",
    "    y_tests.append(y_test)\n",
    "    k_loss,y_difference, x_converted = test_model(X_test, y_test, m, max_num_atoms = 2000, n_features = 53)\n",
    "    test_loss.append(k_loss)\n",
    "    y_diff.append(y_difference)\n",
    "    predicts_test.append(m.predict(x_converted, batch_size=len(X_test)))\n",
    "    "
   ]
  },
  {
   "cell_type": "code",
   "execution_count": 5,
   "id": "734ba6df",
   "metadata": {},
   "outputs": [],
   "source": [
    "# with open('PGCN_BFE_MultiLoss_K%d_fold_hists.pkl' % K, 'wb') as file:\n",
    "#     pickle.dump(hists, file)\n",
    "# with open('PGCN_BFE_MultiLoss_K%d_fold_test.pkl' % K, 'wb') as file:\n",
    "#     pickle.dump(test_loss, file)\n",
    "# with open('PGCN_BFE_MultiLoss_K%d_fold_train_pred.pkl' % K, 'wb') as file:\n",
    "#     pickle.dump(predicts_train, file)\n",
    "# with open('PGCN_BFE_MultiLoss_K%d_fold_test_pred.pkl' % K, 'wb') as file:\n",
    "#     pickle.dump(predicts_test, file)\n",
    "# with open('PGCN_BFE_MultiLoss_K%d_fold_y_test.pkl' % K, 'wb') as file:\n",
    "#     pickle.dump(y_tests, file)\n",
    "# with open('PGCN_BFE_MultiLoss_K%d_fold_y_diff.pkl' % K, 'wb') as file:\n",
    "#     pickle.dump(y_diff, file)"
   ]
  },
  {
   "cell_type": "code",
   "execution_count": 2,
   "id": "f5e5b9ba",
   "metadata": {},
   "outputs": [],
   "source": [
    "import pickle\n",
    "import numpy as np\n",
    "import sys\n",
    "K = 4\n",
    "PGCN_PG_hists = pickle.load(open('Datasets/PGCN_BFE_MultiLoss_K4_fold_hists.pkl', 'rb'))\n",
    "PGCN_PG_loss = np.array(pickle.load(open('Datasets/PGCN_BFE_MultiLoss_K4_fold_test.pkl', 'rb')))\n",
    "PGCN_PG_pred = pickle.load(open('Datasets/PGCN_BFE_MultiLoss_K4_fold_train_pred.pkl', 'rb'))\n",
    "PGCN_test_loss = pickle.load(open('Datasets/PGCN_BFE_MultiLoss_K4_fold_y_test.pkl', 'rb'))\n",
    "PGCN_y_diff = pickle.load(open('Datasets/PGCN_BFE_MultiLoss_K4_fold_y_diff.pkl', 'rb'))"
   ]
  },
  {
   "cell_type": "code",
   "execution_count": 21,
   "id": "c662328e",
   "metadata": {},
   "outputs": [],
   "source": [
    "k_fold_training_loss = [hist[-1] for hist in PGCN_PG_hists]\n",
    "avg_train_loss = np.mean(k_fold_training_loss)\n",
    "std_training_loss = np.std(k_fold_training_loss)\n",
    "total_k_fold_training_loss = \"{:.2f}\".format(avg_train_loss) +\"±\"+\"{:.2f}\".format(std_training_loss)\n"
   ]
  },
  {
   "cell_type": "code",
   "execution_count": 22,
   "id": "a300e321",
   "metadata": {},
   "outputs": [
    {
     "data": {
      "text/plain": [
       "(2.141977697610855,\n",
       " [2.340883731842041,\n",
       "  1.9267687797546387,\n",
       "  2.301137924194336,\n",
       "  1.9991203546524048],\n",
       " '2.14±0.18')"
      ]
     },
     "execution_count": 22,
     "metadata": {},
     "output_type": "execute_result"
    }
   ],
   "source": [
    "avg_train_loss,[hist[-1] for hist in PGCN_PG_hists],total_k_fold_training_loss"
   ]
  },
  {
   "cell_type": "code",
   "execution_count": 23,
   "id": "1c0e4227",
   "metadata": {},
   "outputs": [],
   "source": [
    "k_fold_test_loss = [hist for hist in PGCN_PG_loss]\n",
    "avg_test_loss = np.mean(k_fold_test_loss)\n",
    "std_test_loss = np.std(k_fold_test_loss)\n",
    "\n",
    "total_k_fold_test_loss = \"{:.2f}\".format(avg_test_loss) +\"±\"+\"{:.2f}\".format(std_test_loss)\n"
   ]
  },
  {
   "cell_type": "code",
   "execution_count": 24,
   "id": "a4f1c7f1",
   "metadata": {},
   "outputs": [
    {
     "data": {
      "text/plain": [
       "(2.4818745255470276,\n",
       " [1.832916021347046,\n",
       "  2.9348528385162354,\n",
       "  1.6949963569641113,\n",
       "  3.4647328853607178],\n",
       " array([1.83291602, 2.93485284, 1.69499636, 3.46473289]),\n",
       " '2.48±0.74')"
      ]
     },
     "execution_count": 24,
     "metadata": {},
     "output_type": "execute_result"
    }
   ],
   "source": [
    "avg_test_loss,[hist for hist in PGCN_PG_loss],PGCN_PG_loss,total_k_fold_test_loss"
   ]
  },
  {
   "cell_type": "code",
   "execution_count": null,
   "id": "a6bda6d2",
   "metadata": {},
   "outputs": [],
   "source": []
  },
  {
   "cell_type": "code",
   "execution_count": 7,
   "id": "5aa74118",
   "metadata": {},
   "outputs": [],
   "source": [
    "k_fold_mae = [hist for hist in PGCN_y_diff]\n",
    "avg_mae = np.mean(k_fold_test_loss)"
   ]
  },
  {
   "cell_type": "code",
   "execution_count": 8,
   "id": "8dbc1746",
   "metadata": {},
   "outputs": [
    {
     "data": {
      "text/plain": [
       "2.4818745255470276"
      ]
     },
     "execution_count": 8,
     "metadata": {},
     "output_type": "execute_result"
    }
   ],
   "source": [
    "avg_mae"
   ]
  },
  {
   "cell_type": "code",
   "execution_count": 2,
   "id": "0ad0e8b6",
   "metadata": {},
   "outputs": [
    {
     "ename": "NameError",
     "evalue": "name 'y_test' is not defined",
     "output_type": "error",
     "traceback": [
      "\u001b[0;31m---------------------------------------------------------------------------\u001b[0m",
      "\u001b[0;31mNameError\u001b[0m                                 Traceback (most recent call last)",
      "Cell \u001b[0;32mIn[2], line 5\u001b[0m\n\u001b[1;32m      3\u001b[0m plt\u001b[38;5;241m.\u001b[39mfigure(figsize\u001b[38;5;241m=\u001b[39m(\u001b[38;5;241m5\u001b[39m, \u001b[38;5;241m5\u001b[39m))\n\u001b[1;32m      4\u001b[0m plt\u001b[38;5;241m.\u001b[39mtitle(\u001b[38;5;124m\"\u001b[39m\u001b[38;5;124mΔG Comparison between Empirical and Structural Error\u001b[39m\u001b[38;5;124m\"\u001b[39m)\n\u001b[0;32m----> 5\u001b[0m plt\u001b[38;5;241m.\u001b[39mscatter(\u001b[43my_test\u001b[49m, y_pred_test_struct, alpha\u001b[38;5;241m=\u001b[39m\u001b[38;5;241m0.9\u001b[39m,color\u001b[38;5;241m=\u001b[39m\u001b[38;5;124m\"\u001b[39m\u001b[38;5;124mblue\u001b[39m\u001b[38;5;124m\"\u001b[39m, label \u001b[38;5;241m=\u001b[39m \u001b[38;5;124m\"\u001b[39m\u001b[38;5;124mStructural Error\u001b[39m\u001b[38;5;124m\"\u001b[39m)\n\u001b[1;32m      6\u001b[0m plt\u001b[38;5;241m.\u001b[39mscatter(y_test, y_pred_test_nohyb, alpha\u001b[38;5;241m=\u001b[39m\u001b[38;5;241m0.7\u001b[39m,color\u001b[38;5;241m=\u001b[39m\u001b[38;5;124m\"\u001b[39m\u001b[38;5;124morange\u001b[39m\u001b[38;5;124m\"\u001b[39m, label\u001b[38;5;241m=\u001b[39m\u001b[38;5;124m\"\u001b[39m\u001b[38;5;124mPURE RMSE\u001b[39m\u001b[38;5;124m\"\u001b[39m)\n\u001b[1;32m      7\u001b[0m plt\u001b[38;5;241m.\u001b[39mscatter(y_test, hybrid_y_pred, alpha\u001b[38;5;241m=\u001b[39m\u001b[38;5;241m0.6\u001b[39m,color\u001b[38;5;241m=\u001b[39m\u001b[38;5;124m\"\u001b[39m\u001b[38;5;124mpurple\u001b[39m\u001b[38;5;124m\"\u001b[39m, label\u001b[38;5;241m=\u001b[39m\u001b[38;5;124m\"\u001b[39m\u001b[38;5;124mMulti-Loss\u001b[39m\u001b[38;5;124m\"\u001b[39m)\n",
      "\u001b[0;31mNameError\u001b[0m: name 'y_test' is not defined"
     ]
    },
    {
     "data": {
      "image/png": "[encoded data removed]",
      "text/plain": [
       "<Figure size 500x500 with 1 Axes>"
      ]
     },
     "metadata": {},
     "output_type": "display_data"
    }
   ],
   "source": [
    "import matplotlib.pyplot as plt\n",
    "\n",
    "plt.figure(figsize=(5, 5))\n",
    "plt.title(\"ΔG Comparison between Empirical and Structural Error\")\n",
    "plt.scatter(y_test, y_pred_test_struct, alpha=0.9,color=\"blue\", label = \"Structural Error\")\n",
    "plt.scatter(y_test, y_pred_test_nohyb, alpha=0.7,color=\"orange\", label=\"PURE RMSE\")\n",
    "plt.scatter(y_test, hybrid_y_pred, alpha=0.6,color=\"purple\", label=\"Multi-Loss\")\n",
    "\n",
    "plt.xlabel(\"Experimental ΔG (y_true)\")\n",
    "plt.ylabel(\"Predicted ΔG (y_pred)\")\n",
    "plt.xlim(-1,12)\n",
    "plt.ylim(-1, 12)\n",
    "\n",
    "# Reference y = x line\n",
    "plt.plot([-1, 12], [-1, 12], color='green', lw=1, linestyle='--')\n",
    "\n",
    "plt.legend()\n",
    "plt.tight_layout()\n",
    "\n",
    "plt.savefig('Emp_Struct_Phy_Loss.png.png', dpi=300, bbox_inches='tight')\n",
    "plt.show()"
   ]
  },
  {
   "cell_type": "code",
   "execution_count": 4,
   "id": "811011bc",
   "metadata": {},
   "outputs": [
    {
     "data": {
      "text/plain": [
       "(array([1.83291602, 2.93485284, 1.69499636, 3.46473289]),\n",
       " [1.166493099441131,\n",
       "  2.3794465214146516,\n",
       "  1.2380531164275275,\n",
       "  1.812782790588008])"
      ]
     },
     "execution_count": 4,
     "metadata": {},
     "output_type": "execute_result"
    }
   ],
   "source": [
    "PGCN_PG_loss, PGCN_y_diff"
   ]
  },
  {
   "cell_type": "code",
   "execution_count": 4,
   "id": "a8b8de77",
   "metadata": {},
   "outputs": [
    {
     "data": {
      "image/png": "[encoded data removed]",
      "text/plain": [
       "<Figure size 750x500 with 1 Axes>"
      ]
     },
     "metadata": {},
     "output_type": "display_data"
    }
   ],
   "source": [
    "import matplotlib.pyplot as plt\n",
    "from matplotlib.pyplot import figure\n",
    "import matplotlib\n",
    "\n",
    "font = {'family' : 'serif',\n",
    "        'weight' : 'bold',\n",
    "        'size'   : 20}\n",
    "\n",
    "matplotlib.rc('font', **font)\n",
    "figure(figsize=(15, 10), dpi=50)\n",
    "for i in range(K):\n",
    "    plt.plot(np.array(PGCN_PG_hists[i][20:200]) - .1, label='K = %d' % (i + 1), linewidth=4)\n",
    "plt.xlabel('Epoch')\n",
    "plt.ylabel('Total Loss (kcal/mol)')\n",
    "plt.legend()\n",
    "plt.savefig('Graphs/PGCN_BFE_with_multiloss_K_fold.png',dpi=50, bbox_inches='tight')"
   ]
  },
  {
   "cell_type": "code",
   "execution_count": 9,
   "id": "cb85e06c",
   "metadata": {},
   "outputs": [
    {
     "name": "stdout",
     "output_type": "stream",
     "text": [
      "/home/lthoma21/BFE-Loss-Function\n"
     ]
    }
   ],
   "source": [
    "%cd .."
   ]
  },
  {
   "cell_type": "code",
   "execution_count": 16,
   "id": "c39f57c4",
   "metadata": {},
   "outputs": [
    {
     "name": "stdout",
     "output_type": "stream",
     "text": [
      "WARNING:tensorflow:5 out of the last 5 calls to <function Model.make_test_function.<locals>.test_function at 0x1526ce243b50> triggered tf.function retracing. Tracing is expensive and the excessive number of tracings could be due to (1) creating @tf.function repeatedly in a loop, (2) passing tensors with different shapes, (3) passing Python objects instead of tensors. For (1), please define your @tf.function outside of the loop. For (2), @tf.function has reduce_retracing=True option that can avoid unnecessary retracing. For (3), please refer to https://www.tensorflow.org/guide/function#controlling_retracing and https://www.tensorflow.org/api_docs/python/tf/function for  more details.\n",
      "1/1 [==============================] - 2s 2s/step - loss: 26.6978\n"
     ]
    }
   ],
   "source": [
    "X_fold_test= pickle.load(open('X_folds_test_LT_4.pkl', 'rb'))\n",
    "y_fold_test = pickle.load(open('y_folds_test_LT_4.pkl', 'rb'))\n",
    "k_loss, x_converted = test_model(X_fold_test, y_fold_test, m)\n",
    "\n",
    "# check size after this"
   ]
  },
  {
   "cell_type": "code",
   "execution_count": 12,
   "id": "4a78ace3",
   "metadata": {},
   "outputs": [
    {
     "data": {
      "text/plain": [
       "2.74"
      ]
     },
     "execution_count": 12,
     "metadata": {},
     "output_type": "execute_result"
    }
   ],
   "source": [
    "# X_test.shape\n",
    "# y_fold_test[0]\n",
    "\n",
    "\n",
    "# y_fold_test = np.array(y_fold_test)"
   ]
  },
  {
   "cell_type": "code",
   "execution_count": 21,
   "id": "bd0ac673",
   "metadata": {},
   "outputs": [],
   "source": [
    "# # input_shapes_brd4 = []\n",
    "# # print(\"X_test shape before evaluate:\", X_fold_test[0].shape)\n",
    "# # for i in range(len(X_fold_test)):\n",
    "# #     input_shapes_brd4.append(np.array(X_fold_test[i]).shape[0])\n",
    "# # m.set_input_shapes(input_shapes_brd4)\n",
    "# # print(m.i_s)\n",
    "# # for i in range(len(X_fold_test)):\n",
    "# #     if X_fold_test[i].shape[0] < 2000:\n",
    "# #         new_list = np.zeros([2000 - X_fold_test[i].shape[0], 41])\n",
    "# #         X_fold_test[i] = np.concatenate([X_fold_test[i], new_list], 0)   \n",
    "# # print(\"X_test shape after evaluate:\", X_fold_test[0].shape)\n",
    "# # predicts_train.append(m.predict(x_converted, batch_size=len(X_fold_test)))\n",
    "\n",
    "\n",
    "# input_shapes = []\n",
    "# y_test = y_folds[int(.8*len(X_folds)):]\n",
    "# for i in range(len(X_test)):\n",
    "#     input_shapes.append(np.array(X_test[i]).shape[0])\n",
    "# m.set_input_shapes(input_shapes)\n",
    "# for i in range(len(X_test)):\n",
    "#     if X_test[i].shape[0] < 2000:\n",
    "#         new_list = np.zeros([2000 - X_test[i].shape[0], 41])\n",
    "#         X_test[i] = np.concatenate([X_test[i], new_list], 0)\n",
    "# X_test = np.array(X_test)\n",
    "# y_test = np.array(y_test)\n",
    "# m.evaluate(X_test, y_test)\n"
   ]
  },
  {
   "cell_type": "code",
   "execution_count": 22,
   "id": "ffdc667b",
   "metadata": {},
   "outputs": [],
   "source": [
    "# input_shapes = []\n",
    "\n",
    "\n",
    "# m.set_input_shapes(input_shapes)\n",
    "# for i in range(len(X_fold_test)):\n",
    "#     if X_fold_test[i].shape[0] < 2000:\n",
    "#         new_list = np.zeros([2000 - X_fold_test[i].shape[0], 41])\n",
    "#         X_fold_test[i] = np.concatenate([X_fold_test[i], new_list], 0)\n",
    "\n",
    "# X_fold_test = np.array(X_fold_test)\n",
    "# y_fold_test = np.array(y_fold_test)\n",
    "# m.evaluate(X_fold_test, y_fold_test)"
   ]
  },
  {
   "cell_type": "code",
   "execution_count": null,
   "id": "eb03d391",
   "metadata": {},
   "outputs": [],
   "source": []
  },
  {
   "cell_type": "code",
   "execution_count": null,
   "id": "e860ee37",
   "metadata": {},
   "outputs": [],
   "source": []
  },
  {
   "cell_type": "code",
   "execution_count": 30,
   "id": "a43dd100",
   "metadata": {},
   "outputs": [
    {
     "name": "stdout",
     "output_type": "stream",
     "text": [
      "1/1 [==============================] - 0s 173ms/step - loss: 3.6865\n",
      "1/1 [==============================] - 0s 172ms/step\n"
     ]
    }
   ],
   "source": [
    "# k_loss, x_converted = test_model(X_test, y_test, m)\n",
    "\n",
    "# predicts_test.append(m.predict(x_converted, batch_size=len(X_test)))"
   ]
  },
  {
   "cell_type": "code",
   "execution_count": 100,
   "id": "8e0371cb",
   "metadata": {},
   "outputs": [],
   "source": []
  },
  {
   "cell_type": "code",
   "execution_count": 80,
   "id": "569d845f",
   "metadata": {},
   "outputs": [
    {
     "data": {
      "text/plain": [
       "(2000, 41)"
      ]
     },
     "execution_count": 80,
     "metadata": {},
     "output_type": "execute_result"
    }
   ],
   "source": [
    "# X_test[0].shape"
   ]
  },
  {
   "cell_type": "code",
   "execution_count": null,
   "id": "eacd9e55",
   "metadata": {},
   "outputs": [],
   "source": []
  }
 ],
 "metadata": {
  "kernelspec": {
   "display_name": "base",
   "language": "python",
   "name": "python3"
  },
  "language_info": {
   "codemirror_mode": {
    "name": "ipython",
    "version": 3
   },
   "file_extension": ".py",
   "mimetype": "text/x-python",
   "name": "python",
   "nbconvert_exporter": "python",
   "pygments_lexer": "ipython3",
   "version": "3.10.11"
  }
 },
 "nbformat": 4,
 "nbformat_minor": 5
}
