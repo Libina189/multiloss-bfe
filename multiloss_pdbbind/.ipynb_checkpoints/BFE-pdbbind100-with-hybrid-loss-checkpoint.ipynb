{
 "cells": [
  {
   "cell_type": "markdown",
   "id": "a54e830f",
   "metadata": {},
   "source": [
    "## Initialize all imports"
   ]
  },
  {
   "cell_type": "code",
   "execution_count": 1,
   "id": "552b4cfb",
   "metadata": {},
   "outputs": [
    {
     "name": "stderr",
     "output_type": "stream",
     "text": [
      "2025-04-26 21:52:50.680706: I tensorflow/core/platform/cpu_feature_guard.cc:193] This TensorFlow binary is optimized with oneAPI Deep Neural Network Library (oneDNN) to use the following CPU instructions in performance-critical operations:  SSE4.1 SSE4.2 AVX AVX2 AVX512F AVX512_VNNI FMA\n",
      "To enable them in other operations, rebuild TensorFlow with the appropriate compiler flags.\n",
      "2025-04-26 21:52:50.748190: I tensorflow/core/util/port.cc:104] oneDNN custom operations are on. You may see slightly different numerical results due to floating-point round-off errors from different computation orders. To turn them off, set the environment variable `TF_ENABLE_ONEDNN_OPTS=0`.\n",
      "No normalization for SPS. Feature removed!\n",
      "No normalization for AvgIpc. Feature removed!\n",
      "No normalization for NumAmideBonds. Feature removed!\n",
      "No normalization for NumAtomStereoCenters. Feature removed!\n",
      "No normalization for NumBridgeheadAtoms. Feature removed!\n",
      "No normalization for NumHeterocycles. Feature removed!\n",
      "No normalization for NumSpiroAtoms. Feature removed!\n",
      "No normalization for NumUnspecifiedAtomStereoCenters. Feature removed!\n",
      "No normalization for Phi. Feature removed!\n",
      "Skipped loading modules with pytorch-geometric dependency, missing a dependency. No module named 'torch_geometric'\n",
      "Skipped loading modules with transformers dependency. No module named 'transformers'\n",
      "cannot import name 'HuggingFaceModel' from 'deepchem.models.torch_models' (/home/lthoma21/.local/lib/python3.10/site-packages/deepchem/models/torch_models/__init__.py)\n",
      "Skipped loading modules with pytorch-geometric dependency, missing a dependency. cannot import name 'DMPNN' from 'deepchem.models.torch_models' (/home/lthoma21/.local/lib/python3.10/site-packages/deepchem/models/torch_models/__init__.py)\n",
      "Skipped loading modules with pytorch-lightning dependency, missing a dependency. No module named 'lightning'\n",
      "Skipped loading some Jax models, missing a dependency. No module named 'jax'\n"
     ]
    }
   ],
   "source": [
    "import os\n",
    "import conda_installer\n",
    "os.environ[\"CUDA_VISIBLE_DEVICES\"] = \"3\"  # Must come BEFORE importing TensorFlow\n",
    "os.environ['XLA_FLAGS'] = '--xla_gpu_cuda_data_dir=/opt/nvidia/cuda/cuda-11.6'\n",
    "import pandas as pd\n",
    "import tensorflow as tf\n",
    "import numpy as np\n",
    "from rdkit import Chem\n",
    "from deepchem.feat.graph_features import atom_features as get_atom_features\n",
    "import rdkit\n",
    "import pickle\n",
    "import copy\n",
    "import matplotlib.pyplot as plt\n",
    "\n",
    "\n",
    "from sklearn.model_selection import train_test_split\n",
    "from sklearn.preprocessing import StandardScaler\n",
    "\n",
    "\n",
    "import importlib\n",
    "import keras.backend as K\n",
    "# import tensorflow_addons as tfa\n",
    "from tensorflow.keras import regularizers, constraints, callbacks\n",
    "\n",
    "import sys\n",
    "from tensorflow.keras.callbacks import EarlyStopping\n",
    "\n",
    "from tensorflow.keras.optimizers.schedules import ExponentialDecay\n",
    "from tensorflow.keras.optimizers import Adam\n"
   ]
  },
  {
   "cell_type": "markdown",
   "id": "803996a2",
   "metadata": {},
   "source": [
    "## Read Input data & Change directory"
   ]
  },
  {
   "cell_type": "code",
   "execution_count": 2,
   "id": "35bde962",
   "metadata": {},
   "outputs": [
    {
     "name": "stdout",
     "output_type": "stream",
     "text": [
      "/home/lthoma21/BFE-Loss-Function/Datasets\n"
     ]
    }
   ],
   "source": [
    "%cd Datasets/"
   ]
  },
  {
   "cell_type": "code",
   "execution_count": 3,
   "id": "58cb2c04",
   "metadata": {},
   "outputs": [],
   "source": [
    "df = pd.read_csv('Datasets/pdbbind_100.csv')\n",
    "PDBs = pickle.load(open('Datasets/PDBBind_100.pkl', 'rb'))\n"
   ]
  },
  {
   "cell_type": "code",
   "execution_count": 4,
   "id": "4289c74a",
   "metadata": {},
   "outputs": [],
   "source": [
    "df = df[df['complex-name'] != '1.00E+66']\n"
   ]
  },
  {
   "cell_type": "code",
   "execution_count": 5,
   "id": "6f00bdc5",
   "metadata": {},
   "outputs": [
    {
     "data": {
      "text/plain": [
       "98"
      ]
     },
     "execution_count": 5,
     "metadata": {},
     "output_type": "execute_result"
    }
   ],
   "source": [
    "len(df)"
   ]
  },
  {
   "cell_type": "markdown",
   "id": "2596faa9",
   "metadata": {},
   "source": [
    "### PDB PICKLE FILE GENERATION FOR 100 molecule"
   ]
  },
  {
   "cell_type": "code",
   "execution_count": 1,
   "id": "54e1586f",
   "metadata": {},
   "outputs": [],
   "source": [
    "\n",
    "# complex_names_df = df['complex-name'].to_numpy()\n",
    "# PDBs = {}\n",
    "# from os import listdir\n",
    "# from os.path import isfile, join\n",
    "# mypath = 'pdbbind_complex'\n",
    "# onlyfiles = [f for f in listdir(mypath) if isfile(join(mypath, f))]\n",
    "# for f in onlyfiles:\n",
    "#     if f.split('.')[0] in complex_names_df:\n",
    "#         PDBs.update({f.split('.')[0] : rdkit.Chem.rdmolfiles.MolFromPDBFile(mypath + '/' + f)})\n",
    "        \n",
    "# PDBs = {pdb: value for pdb, value in PDBs.items() if value is not None}\n",
    "# pkl_file = open('PDBBind_100.pkl', 'wb')\n",
    "# pickle.dump(PDBs, pkl_file)\n",
    "# pkl_file.close()"
   ]
  },
  {
   "cell_type": "code",
   "execution_count": 7,
   "id": "81bb6f6a",
   "metadata": {},
   "outputs": [
    {
     "data": {
      "text/plain": [
       "98"
      ]
     },
     "execution_count": 7,
     "metadata": {},
     "output_type": "execute_result"
    }
   ],
   "source": [
    "pdb_keys = set(PDBs.keys())\n",
    "df_filtered = df[df['complex-name'].isin(pdb_keys)]\n",
    "len(df_filtered)"
   ]
  },
  {
   "cell_type": "code",
   "execution_count": 8,
   "id": "40f14af4",
   "metadata": {},
   "outputs": [],
   "source": [
    "df_final = df_filtered[['complex-name','pb-protein-vdwaals', 'pb-ligand-vdwaals', 'pb-complex-vdwaals', 'gb-protein-1-4-eel', 'gb-ligand-1-4-eel', 'gb-complex-1-4-eel',\n",
    "       'gb-protein-eelect', 'gb-ligand-eelec', 'gb-complex-eelec', 'gb-protein-egb', 'gb-ligand-egb', 'gb-complex-egb', 'gb-protein-esurf', 'gb-ligand-esurf', 'gb-complex-esurf','ddg']]"
   ]
  },
  {
   "cell_type": "code",
   "execution_count": 9,
   "id": "6f033dea",
   "metadata": {},
   "outputs": [
    {
     "data": {
      "text/plain": [
       "98"
      ]
     },
     "execution_count": 9,
     "metadata": {},
     "output_type": "execute_result"
    }
   ],
   "source": [
    "len(df_final)\n",
    "# df_final.tail()"
   ]
  },
  {
   "cell_type": "markdown",
   "id": "cf6102ae",
   "metadata": {},
   "source": [
    "## Data pre-processing"
   ]
  },
  {
   "cell_type": "code",
   "execution_count": null,
   "id": "f3adc3f1",
   "metadata": {},
   "outputs": [],
   "source": [
    "import models.layers_update_mobley as layers\n",
    "from models.dcFeaturizer import atom_features as get_atom_features\n",
    "importlib.reload(layers)"
   ]
  },
  {
   "cell_type": "code",
   "execution_count": 12,
   "id": "4c3e71ff",
   "metadata": {},
   "outputs": [],
   "source": [
    "info = []\n",
    "for pdb in list(PDBs.keys()):\n",
    "    info.append(df_final[df_final['complex-name'] == pdb][['pb-protein-vdwaals', 'pb-ligand-vdwaals', 'pb-complex-vdwaals', 'gb-protein-1-4-eel', 'gb-ligand-1-4-eel', 'gb-complex-1-4-eel',\n",
    "       'gb-protein-eelect', 'gb-ligand-eelec', 'gb-complex-eelec', 'gb-protein-egb', 'gb-ligand-egb', 'gb-complex-egb', 'gb-protein-esurf', 'gb-ligand-esurf', 'gb-complex-esurf']].to_numpy()[0])"
   ]
  },
  {
   "cell_type": "code",
   "execution_count": 13,
   "id": "564285a2",
   "metadata": {},
   "outputs": [],
   "source": [
    "def featurize(molecule, info):\n",
    "    \n",
    "    atom_features = []\n",
    "    for atom in molecule.GetAtoms():\n",
    "        new_feature = get_atom_features(atom).tolist()\n",
    "        position = molecule.GetConformer().GetAtomPosition(atom.GetIdx())\n",
    "        new_feature += [atom.GetMass(), atom.GetAtomicNum(),atom.GetFormalCharge()]\n",
    "        new_feature += [position.x, position.y, position.z]\n",
    "        for neighbor in atom.GetNeighbors()[:2]:\n",
    "            neighbor_idx = neighbor.GetIdx()\n",
    "            new_feature += [neighbor_idx]\n",
    "        for i in range(2 - len(atom.GetNeighbors())):\n",
    "            new_feature += [-1]\n",
    "\n",
    "        atom_features.append(np.concatenate([new_feature, info], 0))\n",
    "    return np.array(atom_features)"
   ]
  },
  {
   "cell_type": "code",
   "execution_count": 14,
   "id": "8aeaabc3",
   "metadata": {},
   "outputs": [],
   "source": [
    "X = []\n",
    "y = []\n",
    "for i, pdb in enumerate(list(PDBs.keys())):\n",
    "    X.append(featurize(PDBs[pdb], info[i]))\n",
    "    y.append(df_final[df_final['complex-name'] == pdb]['ddg'].to_numpy()[0])\n"
   ]
  },
  {
   "cell_type": "code",
   "execution_count": 15,
   "id": "6193f292",
   "metadata": {},
   "outputs": [],
   "source": [
    "# x = []\n",
    "# y=[]\n",
    "# for i in range(len(X)):\n",
    "#     shape = X[i].shape\n",
    "#     x.append(shape[0])\n",
    "#     y.append(shape[1])\n",
    "# max(x)\n"
   ]
  },
  {
   "cell_type": "code",
   "execution_count": 16,
   "id": "10c526d1",
   "metadata": {},
   "outputs": [],
   "source": [
    "# Split the data into training and testing sets\n",
    "# Randomly shuffles the data before splitting, ensuring that the training and testing sets are representative of the overall dataset.\n",
    "X_train, X_test, y_train, y_test = train_test_split(X, y, test_size=0.2, random_state=236)\n"
   ]
  },
  {
   "cell_type": "code",
   "execution_count": 17,
   "id": "3ef9fcf0",
   "metadata": {},
   "outputs": [
    {
     "data": {
      "text/plain": [
       "(78, 20, 78, 20)"
      ]
     },
     "execution_count": 17,
     "metadata": {},
     "output_type": "execute_result"
    }
   ],
   "source": [
    "len(X_train), len(X_test), len(y_train), len(y_test)"
   ]
  },
  {
   "cell_type": "markdown",
   "id": "fae5050f",
   "metadata": {},
   "source": [
    "## Helper Functions"
   ]
  },
  {
   "cell_type": "code",
   "execution_count": 18,
   "id": "0d43cc85",
   "metadata": {},
   "outputs": [],
   "source": [
    "\n",
    "class PGGCNModel(tf.keras.Model):\n",
    "    def __init__(self, num_atom_features=36, r_out_channel=20, c_out_channel=1024, l2=1e-4, dropout_rate=0.2, maxnorm=3.0):\n",
    "        super().__init__()\n",
    "        self.ruleGraphConvLayer = layers.RuleGraphConvLayer(r_out_channel, num_atom_features, 0)\n",
    "        self.ruleGraphConvLayer.combination_rules = []\n",
    "        self.conv = layers.ConvLayer(c_out_channel, r_out_channel)\n",
    "        self.dense1 = tf.keras.layers.Dense(32, activation='relu', name='dense1', kernel_regularizer=regularizers.l2(l2), bias_regularizer=regularizers.l2(l2), kernel_constraint=constraints.MaxNorm(maxnorm))\n",
    "        self.dropout1 = tf.keras.layers.Dropout(dropout_rate)\n",
    "        self.dense5 = tf.keras.layers.Dense(16, activation='relu', name='dense2', kernel_regularizer=regularizers.l2(l2), bias_regularizer=regularizers.l2(l2), kernel_constraint=constraints.MaxNorm(maxnorm))\n",
    "        self.dropout2 = tf.keras.layers.Dropout(dropout_rate)\n",
    "        self.dense6 = tf.keras.layers.Dense(1, name='dense6', kernel_regularizer=regularizers.l2(l2), bias_regularizer=regularizers.l2(l2), kernel_constraint=constraints.MaxNorm(maxnorm))\n",
    "        self.dense7 = tf.keras.layers.Dense(1, name='dense7',\n",
    "                                             kernel_initializer=tf.keras.initializers.Constant([0.3, 1, 1, -1, 1, 1, -1, 1, 1, -1, 1, 1, -1, 1, 1, -1]),\n",
    "                                             bias_initializer=tf.keras.initializers.Zeros(),\n",
    "                                             kernel_regularizer=regularizers.l2(l2), \n",
    "                                             bias_regularizer=regularizers.l2(l2), \n",
    "                                             kernel_constraint=constraints.MaxNorm(maxnorm))\n",
    "\n",
    "    def addRule(self, rule, start_index, end_index=None):\n",
    "        self.ruleGraphConvLayer.addRule(rule, start_index, end_index)\n",
    "        \n",
    "    def set_input_shapes(self, i_s):\n",
    "        self.i_s = i_s\n",
    "\n",
    "    def call(self, inputs, training=False):\n",
    "        print(\"Inside call\")\n",
    "        physics_info = inputs[:, 0, 38:] \n",
    "        x_a = []\n",
    "        for i in range(len(self.i_s)):\n",
    "            x_a.append(inputs[i][:self.i_s[i], :38])\n",
    "        x = self.ruleGraphConvLayer(x_a)\n",
    "        x = self.conv(x)\n",
    "        x = self.dense1(x)\n",
    "        x = self.dropout1(x, training=training)\n",
    "        x = self.dense5(x)\n",
    "        x = self.dropout2(x, training=training)\n",
    "        model_var = self.dense6(x)\n",
    "        merged = tf.concat([model_var, physics_info], axis=1)\n",
    "        out = self.dense7(merged)\n",
    "        return tf.concat([out, physics_info], axis=1)\n",
    "    \n",
    "class LossComponentsCallback(tf.keras.callbacks.Callback):\n",
    "    def __init__(self,model_instance):\n",
    "        super().__init__()\n",
    "        self.empirical_losses = []\n",
    "        self.physical_losses = []\n",
    "        self.total_losses = []\n",
    "        self.learning_rates = []\n",
    "        self.model = model_instance\n",
    "        \n",
    "    def on_epoch_end(self, epoch, logs=None):\n",
    "        logs = logs or {}\n",
    "        # Store the total loss\n",
    "        self.total_losses.append(logs.get('loss'))\n",
    "        lr = self.model.optimizer.learning_rate\n",
    "        if isinstance(lr, tf.keras.optimizers.schedules.LearningRateSchedule):\n",
    "            lr = lr(self.model.optimizer.iterations)  # Call the schedule\n",
    "        else:\n",
    "            lr = lr  \n",
    "\n",
    "        self.learning_rates.append(float(tf.keras.backend.get_value(lr)))\n",
    "\n",
    "\n",
    "def root_mean_squared_error(y_true, y_pred):\n",
    "    y_true = tf.cast(y_true, tf.float32)\n",
    "    y_pred = tf.cast(y_pred, tf.float32)\n",
    "    return K.sqrt(K.mean(K.square(y_pred[0] - y_true))) + K.abs(1 / K.mean(.2 + y_pred[1]))\n",
    "\n",
    "\n",
    "def pure_rmse(y_true, y_pred):\n",
    "    y_true = tf.cast(y_true, tf.float32)\n",
    "    y_pred = tf.cast(y_pred, tf.float32)\n",
    "    return K.sqrt(K.mean(K.square(y_pred - y_true)))\n",
    "\n",
    "def physical_consistency_loss(y_true,y_pred,physics_info):\n",
    "    y_true = tf.cast(y_true, tf.float32)\n",
    "    y_pred = tf.cast(y_pred, tf.float32)\n",
    "    dG_pred = y_pred\n",
    "    y_true = tf.reshape(y_true, (-1, 1))\n",
    "\n",
    "    # Physical Inconsistency loss\n",
    "    # Extract the components from physics_info\n",
    "    host = tf.gather(physics_info, [0, 3, 6, 9, 12], axis=1)  # Host energy terms\n",
    "    guest = tf.gather(physics_info, [1, 4, 7, 10, 13], axis=1)  # Guest energy terms\n",
    "    complex_ = tf.gather(physics_info, [2, 5, 8, 11, 14], axis=1)  # Complex energy terms\n",
    "\n",
    "    # Calculate ΔG based on physics: ΔG = ΔGcomplex - (ΔGhost + ΔGguest)\n",
    "    dG_physics = tf.reduce_sum(complex_, axis=1, keepdims=True) - (tf.reduce_sum(host, axis=1, keepdims=True) + tf.reduce_sum(guest, axis=1, keepdims=True))\n",
    "    phy_loss = K.sqrt(K.mean(K.square(dG_pred - dG_physics)))\n",
    "    tf.print(\"dG_physics:\", dG_physics)\n",
    "    tf.print(\"dG_pred:\", dG_pred)\n",
    "    return phy_loss\n",
    "\n",
    "\n",
    "\n",
    "def combined_loss(physics_hyperparam=0.0003):\n",
    "    def loss_function(y_true, y_pred):\n",
    "        # Extract prediction and physics info\n",
    "        y_true = tf.cast(y_true, tf.float32)\n",
    "        y_pred = tf.cast(y_pred, tf.float32)\n",
    "        prediction = y_pred[:, 0]\n",
    "        physics_info = y_pred[:, 1:16]  # Assuming 15 physical features\n",
    "        \n",
    "        # Calculate individual loss components\n",
    "        empirical_loss = pure_rmse(y_true, prediction)\n",
    "        physics_loss = physical_consistency_loss(y_true, prediction, physics_info)\n",
    "        \n",
    "        # Combine losses with weights\n",
    "        total_loss = empirical_loss + (physics_hyperparam * physics_loss)\n",
    "        \n",
    "        return total_loss\n",
    "    \n",
    "    return loss_function\n",
    "\n",
    "\n",
    "\n",
    "\n"
   ]
  },
  {
   "cell_type": "code",
   "execution_count": 19,
   "id": "118b5098",
   "metadata": {},
   "outputs": [
    {
     "data": {
      "text/plain": [
       "(4196, 53)"
      ]
     },
     "execution_count": 19,
     "metadata": {},
     "output_type": "execute_result"
    }
   ],
   "source": [
    "X_train[0].shape"
   ]
  },
  {
   "cell_type": "code",
   "execution_count": 20,
   "id": "385e875e",
   "metadata": {
    "scrolled": false
   },
   "outputs": [
    {
     "name": "stdout",
     "output_type": "stream",
     "text": [
      "---------- Hyperparameter combinations ------------\n",
      "Epoch : 500;  physics_weight: 5e-07;\n"
     ]
    },
    {
     "name": "stderr",
     "output_type": "stream",
     "text": [
      "2025-04-26 21:53:17.455575: E tensorflow/compiler/xla/stream_executor/cuda/cuda_driver.cc:267] failed call to cuInit: CUDA_ERROR_NO_DEVICE: no CUDA-capable device is detected\n",
      "2025-04-26 21:53:17.455608: I tensorflow/compiler/xla/stream_executor/cuda/cuda_diagnostics.cc:156] kernel driver does not appear to be running on this host (curie.cluster): /proc/driver/nvidia/version does not exist\n",
      "2025-04-26 21:53:17.456677: I tensorflow/core/platform/cpu_feature_guard.cc:193] This TensorFlow binary is optimized with oneAPI Deep Neural Network Library (oneDNN) to use the following CPU instructions in performance-critical operations:  SSE4.1 SSE4.2 AVX AVX2 AVX512F AVX512_VNNI FMA\n",
      "To enable them in other operations, rebuild TensorFlow with the appropriate compiler flags.\n"
     ]
    },
    {
     "name": "stdout",
     "output_type": "stream",
     "text": [
      "Epoch 1/500\n",
      "Inside call\n",
      "WARNING:tensorflow:From /opt/calstatela/mambaforge/lib/python3.10/site-packages/tensorflow/python/autograph/pyct/static_analysis/liveness.py:83: Analyzer.lamba_check (from tensorflow.python.autograph.pyct.static_analysis.liveness) is deprecated and will be removed after 2023-09-23.\n",
      "Instructions for updating:\n",
      "Lambda fuctions will be no more assumed to be used in the statement where they are used, or at least in the same block. https://github.com/tensorflow/tensorflow/issues/56089\n",
      "Inside call\n",
      "dG_physics: [[-57.5839844]\n",
      " [48.8505859]\n",
      " [-1.4296875]\n",
      " ...\n",
      " [40.2636719]\n",
      " [-42.9140625]\n",
      " [-24.7050781]]\n",
      "dG_pred: [57.5820312 -48.8496094 1.4296875 ... -40.2617188 42.9140625 24.703125]\n",
      "1/1 [==============================] - 133s 133s/step - loss: 49.8521\n",
      "Epoch 2/500\n",
      "dG_physics: [[-47.203125]\n",
      " [-44.1914062]\n",
      " [-24.6230469]\n",
      " ...\n",
      " [-25.7412109]\n",
      " [-0.16015625]\n",
      " [1.453125]]\n",
      "dG_pred: [-20.4848747 -22.7661247 -30.5864372 ... -2.97706246 -44.301281 -29.8051872]\n",
      "1/1 [==============================] - 52s 52s/step - loss: 58.2598\n",
      "Epoch 3/500\n",
      "dG_physics: [[84.1269531]\n",
      " [120.015625]\n",
      " [129.025391]\n",
      " ...\n",
      " [1.484375]\n",
      " [22.7373047]\n",
      " [0.619140625]]\n",
      "dG_pred: [-73.5158463 -125.383034 -105.431862 ... -17.8986568 -21.9924068 -6.1369381]\n",
      "1/1 [==============================] - 52s 52s/step - loss: 38.2485\n",
      "Epoch 4/500\n",
      "dG_physics: [[-61.8222656]\n",
      " [-11.28125]\n",
      " [-0.681640625]\n",
      " ...\n",
      " [1.484375]\n",
      " [13.6484375]\n",
      " [-10.3994141]]\n",
      "dG_pred: [74.5508 28.6562691 35.9726753 ... 37.4922066 34.2422066 18.0273628]\n"
     ]
    },
    {
     "ename": "KeyboardInterrupt",
     "evalue": "",
     "output_type": "error",
     "traceback": [
      "\u001b[0;31m---------------------------------------------------------------------------\u001b[0m",
      "\u001b[0;31mKeyboardInterrupt\u001b[0m                         Traceback (most recent call last)",
      "Cell \u001b[0;32mIn[20], line 55\u001b[0m\n\u001b[1;32m     46\u001b[0m \u001b[38;5;66;03m# Add early stopping\u001b[39;00m\n\u001b[1;32m     47\u001b[0m early_stopping \u001b[38;5;241m=\u001b[39m EarlyStopping(\n\u001b[1;32m     48\u001b[0m     monitor\u001b[38;5;241m=\u001b[39m\u001b[38;5;124m'\u001b[39m\u001b[38;5;124mloss\u001b[39m\u001b[38;5;124m'\u001b[39m,           \n\u001b[1;32m     49\u001b[0m     patience\u001b[38;5;241m=\u001b[39m\u001b[38;5;241m10\u001b[39m,              \n\u001b[0;32m   (...)\u001b[0m\n\u001b[1;32m     52\u001b[0m     verbose\u001b[38;5;241m=\u001b[39m\u001b[38;5;241m1\u001b[39m                 \n\u001b[1;32m     53\u001b[0m )\n\u001b[0;32m---> 55\u001b[0m hist \u001b[38;5;241m=\u001b[39m \u001b[43mm\u001b[49m\u001b[38;5;241;43m.\u001b[39;49m\u001b[43mfit\u001b[49m\u001b[43m(\u001b[49m\u001b[43mX_train\u001b[49m\u001b[43m,\u001b[49m\u001b[43m \u001b[49m\u001b[43my_train\u001b[49m\u001b[43m,\u001b[49m\u001b[43m \u001b[49m\u001b[43mepochs\u001b[49m\u001b[43m \u001b[49m\u001b[38;5;241;43m=\u001b[39;49m\u001b[43m \u001b[49m\u001b[43mepoch\u001b[49m\u001b[43m,\u001b[49m\u001b[43m \u001b[49m\u001b[43mbatch_size\u001b[49m\u001b[38;5;241;43m=\u001b[39;49m\u001b[38;5;28;43mlen\u001b[39;49m\u001b[43m(\u001b[49m\u001b[43mX_train\u001b[49m\u001b[43m)\u001b[49m\u001b[43m,\u001b[49m\u001b[43mcallbacks\u001b[49m\u001b[38;5;241;43m=\u001b[39;49m\u001b[43m[\u001b[49m\u001b[43mloss_tracker\u001b[49m\u001b[43m]\u001b[49m\u001b[43m)\u001b[49m\n\u001b[1;32m     58\u001b[0m input_shapes \u001b[38;5;241m=\u001b[39m []\n\u001b[1;32m     59\u001b[0m \u001b[38;5;28;01mfor\u001b[39;00m i \u001b[38;5;129;01min\u001b[39;00m \u001b[38;5;28mrange\u001b[39m(\u001b[38;5;28mlen\u001b[39m(X_test)):\n",
      "File \u001b[0;32m/opt/calstatela/mambaforge/lib/python3.10/site-packages/keras/utils/traceback_utils.py:65\u001b[0m, in \u001b[0;36mfilter_traceback.<locals>.error_handler\u001b[0;34m(*args, **kwargs)\u001b[0m\n\u001b[1;32m     63\u001b[0m filtered_tb \u001b[38;5;241m=\u001b[39m \u001b[38;5;28;01mNone\u001b[39;00m\n\u001b[1;32m     64\u001b[0m \u001b[38;5;28;01mtry\u001b[39;00m:\n\u001b[0;32m---> 65\u001b[0m     \u001b[38;5;28;01mreturn\u001b[39;00m \u001b[43mfn\u001b[49m\u001b[43m(\u001b[49m\u001b[38;5;241;43m*\u001b[39;49m\u001b[43margs\u001b[49m\u001b[43m,\u001b[49m\u001b[43m \u001b[49m\u001b[38;5;241;43m*\u001b[39;49m\u001b[38;5;241;43m*\u001b[39;49m\u001b[43mkwargs\u001b[49m\u001b[43m)\u001b[49m\n\u001b[1;32m     66\u001b[0m \u001b[38;5;28;01mexcept\u001b[39;00m \u001b[38;5;167;01mException\u001b[39;00m \u001b[38;5;28;01mas\u001b[39;00m e:\n\u001b[1;32m     67\u001b[0m     filtered_tb \u001b[38;5;241m=\u001b[39m _process_traceback_frames(e\u001b[38;5;241m.\u001b[39m__traceback__)\n",
      "File \u001b[0;32m/opt/calstatela/mambaforge/lib/python3.10/site-packages/keras/engine/training.py:1650\u001b[0m, in \u001b[0;36mModel.fit\u001b[0;34m(self, x, y, batch_size, epochs, verbose, callbacks, validation_split, validation_data, shuffle, class_weight, sample_weight, initial_epoch, steps_per_epoch, validation_steps, validation_batch_size, validation_freq, max_queue_size, workers, use_multiprocessing)\u001b[0m\n\u001b[1;32m   1642\u001b[0m \u001b[38;5;28;01mwith\u001b[39;00m tf\u001b[38;5;241m.\u001b[39mprofiler\u001b[38;5;241m.\u001b[39mexperimental\u001b[38;5;241m.\u001b[39mTrace(\n\u001b[1;32m   1643\u001b[0m     \u001b[38;5;124m\"\u001b[39m\u001b[38;5;124mtrain\u001b[39m\u001b[38;5;124m\"\u001b[39m,\n\u001b[1;32m   1644\u001b[0m     epoch_num\u001b[38;5;241m=\u001b[39mepoch,\n\u001b[0;32m   (...)\u001b[0m\n\u001b[1;32m   1647\u001b[0m     _r\u001b[38;5;241m=\u001b[39m\u001b[38;5;241m1\u001b[39m,\n\u001b[1;32m   1648\u001b[0m ):\n\u001b[1;32m   1649\u001b[0m     callbacks\u001b[38;5;241m.\u001b[39mon_train_batch_begin(step)\n\u001b[0;32m-> 1650\u001b[0m     tmp_logs \u001b[38;5;241m=\u001b[39m \u001b[38;5;28;43mself\u001b[39;49m\u001b[38;5;241;43m.\u001b[39;49m\u001b[43mtrain_function\u001b[49m\u001b[43m(\u001b[49m\u001b[43miterator\u001b[49m\u001b[43m)\u001b[49m\n\u001b[1;32m   1651\u001b[0m     \u001b[38;5;28;01mif\u001b[39;00m data_handler\u001b[38;5;241m.\u001b[39mshould_sync:\n\u001b[1;32m   1652\u001b[0m         context\u001b[38;5;241m.\u001b[39masync_wait()\n",
      "File \u001b[0;32m/opt/calstatela/mambaforge/lib/python3.10/site-packages/tensorflow/python/util/traceback_utils.py:150\u001b[0m, in \u001b[0;36mfilter_traceback.<locals>.error_handler\u001b[0;34m(*args, **kwargs)\u001b[0m\n\u001b[1;32m    148\u001b[0m filtered_tb \u001b[38;5;241m=\u001b[39m \u001b[38;5;28;01mNone\u001b[39;00m\n\u001b[1;32m    149\u001b[0m \u001b[38;5;28;01mtry\u001b[39;00m:\n\u001b[0;32m--> 150\u001b[0m   \u001b[38;5;28;01mreturn\u001b[39;00m \u001b[43mfn\u001b[49m\u001b[43m(\u001b[49m\u001b[38;5;241;43m*\u001b[39;49m\u001b[43margs\u001b[49m\u001b[43m,\u001b[49m\u001b[43m \u001b[49m\u001b[38;5;241;43m*\u001b[39;49m\u001b[38;5;241;43m*\u001b[39;49m\u001b[43mkwargs\u001b[49m\u001b[43m)\u001b[49m\n\u001b[1;32m    151\u001b[0m \u001b[38;5;28;01mexcept\u001b[39;00m \u001b[38;5;167;01mException\u001b[39;00m \u001b[38;5;28;01mas\u001b[39;00m e:\n\u001b[1;32m    152\u001b[0m   filtered_tb \u001b[38;5;241m=\u001b[39m _process_traceback_frames(e\u001b[38;5;241m.\u001b[39m__traceback__)\n",
      "File \u001b[0;32m/opt/calstatela/mambaforge/lib/python3.10/site-packages/tensorflow/python/eager/polymorphic_function/polymorphic_function.py:880\u001b[0m, in \u001b[0;36mFunction.__call__\u001b[0;34m(self, *args, **kwds)\u001b[0m\n\u001b[1;32m    877\u001b[0m compiler \u001b[38;5;241m=\u001b[39m \u001b[38;5;124m\"\u001b[39m\u001b[38;5;124mxla\u001b[39m\u001b[38;5;124m\"\u001b[39m \u001b[38;5;28;01mif\u001b[39;00m \u001b[38;5;28mself\u001b[39m\u001b[38;5;241m.\u001b[39m_jit_compile \u001b[38;5;28;01melse\u001b[39;00m \u001b[38;5;124m\"\u001b[39m\u001b[38;5;124mnonXla\u001b[39m\u001b[38;5;124m\"\u001b[39m\n\u001b[1;32m    879\u001b[0m \u001b[38;5;28;01mwith\u001b[39;00m OptionalXlaContext(\u001b[38;5;28mself\u001b[39m\u001b[38;5;241m.\u001b[39m_jit_compile):\n\u001b[0;32m--> 880\u001b[0m   result \u001b[38;5;241m=\u001b[39m \u001b[38;5;28;43mself\u001b[39;49m\u001b[38;5;241;43m.\u001b[39;49m\u001b[43m_call\u001b[49m\u001b[43m(\u001b[49m\u001b[38;5;241;43m*\u001b[39;49m\u001b[43margs\u001b[49m\u001b[43m,\u001b[49m\u001b[43m \u001b[49m\u001b[38;5;241;43m*\u001b[39;49m\u001b[38;5;241;43m*\u001b[39;49m\u001b[43mkwds\u001b[49m\u001b[43m)\u001b[49m\n\u001b[1;32m    882\u001b[0m new_tracing_count \u001b[38;5;241m=\u001b[39m \u001b[38;5;28mself\u001b[39m\u001b[38;5;241m.\u001b[39mexperimental_get_tracing_count()\n\u001b[1;32m    883\u001b[0m without_tracing \u001b[38;5;241m=\u001b[39m (tracing_count \u001b[38;5;241m==\u001b[39m new_tracing_count)\n",
      "File \u001b[0;32m/opt/calstatela/mambaforge/lib/python3.10/site-packages/tensorflow/python/eager/polymorphic_function/polymorphic_function.py:912\u001b[0m, in \u001b[0;36mFunction._call\u001b[0;34m(self, *args, **kwds)\u001b[0m\n\u001b[1;32m    909\u001b[0m   \u001b[38;5;28mself\u001b[39m\u001b[38;5;241m.\u001b[39m_lock\u001b[38;5;241m.\u001b[39mrelease()\n\u001b[1;32m    910\u001b[0m   \u001b[38;5;66;03m# In this case we have created variables on the first call, so we run the\u001b[39;00m\n\u001b[1;32m    911\u001b[0m   \u001b[38;5;66;03m# defunned version which is guaranteed to never create variables.\u001b[39;00m\n\u001b[0;32m--> 912\u001b[0m   \u001b[38;5;28;01mreturn\u001b[39;00m \u001b[38;5;28;43mself\u001b[39;49m\u001b[38;5;241;43m.\u001b[39;49m\u001b[43m_no_variable_creation_fn\u001b[49m\u001b[43m(\u001b[49m\u001b[38;5;241;43m*\u001b[39;49m\u001b[43margs\u001b[49m\u001b[43m,\u001b[49m\u001b[43m \u001b[49m\u001b[38;5;241;43m*\u001b[39;49m\u001b[38;5;241;43m*\u001b[39;49m\u001b[43mkwds\u001b[49m\u001b[43m)\u001b[49m  \u001b[38;5;66;03m# pylint: disable=not-callable\u001b[39;00m\n\u001b[1;32m    913\u001b[0m \u001b[38;5;28;01melif\u001b[39;00m \u001b[38;5;28mself\u001b[39m\u001b[38;5;241m.\u001b[39m_variable_creation_fn \u001b[38;5;129;01mis\u001b[39;00m \u001b[38;5;129;01mnot\u001b[39;00m \u001b[38;5;28;01mNone\u001b[39;00m:\n\u001b[1;32m    914\u001b[0m   \u001b[38;5;66;03m# Release the lock early so that multiple threads can perform the call\u001b[39;00m\n\u001b[1;32m    915\u001b[0m   \u001b[38;5;66;03m# in parallel.\u001b[39;00m\n\u001b[1;32m    916\u001b[0m   \u001b[38;5;28mself\u001b[39m\u001b[38;5;241m.\u001b[39m_lock\u001b[38;5;241m.\u001b[39mrelease()\n",
      "File \u001b[0;32m/opt/calstatela/mambaforge/lib/python3.10/site-packages/tensorflow/python/eager/polymorphic_function/tracing_compiler.py:134\u001b[0m, in \u001b[0;36mTracingCompiler.__call__\u001b[0;34m(self, *args, **kwargs)\u001b[0m\n\u001b[1;32m    131\u001b[0m \u001b[38;5;28;01mwith\u001b[39;00m \u001b[38;5;28mself\u001b[39m\u001b[38;5;241m.\u001b[39m_lock:\n\u001b[1;32m    132\u001b[0m   (concrete_function,\n\u001b[1;32m    133\u001b[0m    filtered_flat_args) \u001b[38;5;241m=\u001b[39m \u001b[38;5;28mself\u001b[39m\u001b[38;5;241m.\u001b[39m_maybe_define_function(args, kwargs)\n\u001b[0;32m--> 134\u001b[0m \u001b[38;5;28;01mreturn\u001b[39;00m \u001b[43mconcrete_function\u001b[49m\u001b[38;5;241;43m.\u001b[39;49m\u001b[43m_call_flat\u001b[49m\u001b[43m(\u001b[49m\n\u001b[1;32m    135\u001b[0m \u001b[43m    \u001b[49m\u001b[43mfiltered_flat_args\u001b[49m\u001b[43m,\u001b[49m\u001b[43m \u001b[49m\u001b[43mcaptured_inputs\u001b[49m\u001b[38;5;241;43m=\u001b[39;49m\u001b[43mconcrete_function\u001b[49m\u001b[38;5;241;43m.\u001b[39;49m\u001b[43mcaptured_inputs\u001b[49m\u001b[43m)\u001b[49m\n",
      "File \u001b[0;32m/opt/calstatela/mambaforge/lib/python3.10/site-packages/tensorflow/python/eager/polymorphic_function/monomorphic_function.py:1745\u001b[0m, in \u001b[0;36mConcreteFunction._call_flat\u001b[0;34m(self, args, captured_inputs, cancellation_manager)\u001b[0m\n\u001b[1;32m   1741\u001b[0m possible_gradient_type \u001b[38;5;241m=\u001b[39m gradients_util\u001b[38;5;241m.\u001b[39mPossibleTapeGradientTypes(args)\n\u001b[1;32m   1742\u001b[0m \u001b[38;5;28;01mif\u001b[39;00m (possible_gradient_type \u001b[38;5;241m==\u001b[39m gradients_util\u001b[38;5;241m.\u001b[39mPOSSIBLE_GRADIENT_TYPES_NONE\n\u001b[1;32m   1743\u001b[0m     \u001b[38;5;129;01mand\u001b[39;00m executing_eagerly):\n\u001b[1;32m   1744\u001b[0m   \u001b[38;5;66;03m# No tape is watching; skip to running the function.\u001b[39;00m\n\u001b[0;32m-> 1745\u001b[0m   \u001b[38;5;28;01mreturn\u001b[39;00m \u001b[38;5;28mself\u001b[39m\u001b[38;5;241m.\u001b[39m_build_call_outputs(\u001b[38;5;28;43mself\u001b[39;49m\u001b[38;5;241;43m.\u001b[39;49m\u001b[43m_inference_function\u001b[49m\u001b[38;5;241;43m.\u001b[39;49m\u001b[43mcall\u001b[49m\u001b[43m(\u001b[49m\n\u001b[1;32m   1746\u001b[0m \u001b[43m      \u001b[49m\u001b[43mctx\u001b[49m\u001b[43m,\u001b[49m\u001b[43m \u001b[49m\u001b[43margs\u001b[49m\u001b[43m,\u001b[49m\u001b[43m \u001b[49m\u001b[43mcancellation_manager\u001b[49m\u001b[38;5;241;43m=\u001b[39;49m\u001b[43mcancellation_manager\u001b[49m\u001b[43m)\u001b[49m)\n\u001b[1;32m   1747\u001b[0m forward_backward \u001b[38;5;241m=\u001b[39m \u001b[38;5;28mself\u001b[39m\u001b[38;5;241m.\u001b[39m_select_forward_and_backward_functions(\n\u001b[1;32m   1748\u001b[0m     args,\n\u001b[1;32m   1749\u001b[0m     possible_gradient_type,\n\u001b[1;32m   1750\u001b[0m     executing_eagerly)\n\u001b[1;32m   1751\u001b[0m forward_function, args_with_tangents \u001b[38;5;241m=\u001b[39m forward_backward\u001b[38;5;241m.\u001b[39mforward()\n",
      "File \u001b[0;32m/opt/calstatela/mambaforge/lib/python3.10/site-packages/tensorflow/python/eager/polymorphic_function/monomorphic_function.py:378\u001b[0m, in \u001b[0;36m_EagerDefinedFunction.call\u001b[0;34m(self, ctx, args, cancellation_manager)\u001b[0m\n\u001b[1;32m    376\u001b[0m \u001b[38;5;28;01mwith\u001b[39;00m _InterpolateFunctionError(\u001b[38;5;28mself\u001b[39m):\n\u001b[1;32m    377\u001b[0m   \u001b[38;5;28;01mif\u001b[39;00m cancellation_manager \u001b[38;5;129;01mis\u001b[39;00m \u001b[38;5;28;01mNone\u001b[39;00m:\n\u001b[0;32m--> 378\u001b[0m     outputs \u001b[38;5;241m=\u001b[39m \u001b[43mexecute\u001b[49m\u001b[38;5;241;43m.\u001b[39;49m\u001b[43mexecute\u001b[49m\u001b[43m(\u001b[49m\n\u001b[1;32m    379\u001b[0m \u001b[43m        \u001b[49m\u001b[38;5;28;43mstr\u001b[39;49m\u001b[43m(\u001b[49m\u001b[38;5;28;43mself\u001b[39;49m\u001b[38;5;241;43m.\u001b[39;49m\u001b[43msignature\u001b[49m\u001b[38;5;241;43m.\u001b[39;49m\u001b[43mname\u001b[49m\u001b[43m)\u001b[49m\u001b[43m,\u001b[49m\n\u001b[1;32m    380\u001b[0m \u001b[43m        \u001b[49m\u001b[43mnum_outputs\u001b[49m\u001b[38;5;241;43m=\u001b[39;49m\u001b[38;5;28;43mself\u001b[39;49m\u001b[38;5;241;43m.\u001b[39;49m\u001b[43m_num_outputs\u001b[49m\u001b[43m,\u001b[49m\n\u001b[1;32m    381\u001b[0m \u001b[43m        \u001b[49m\u001b[43minputs\u001b[49m\u001b[38;5;241;43m=\u001b[39;49m\u001b[43margs\u001b[49m\u001b[43m,\u001b[49m\n\u001b[1;32m    382\u001b[0m \u001b[43m        \u001b[49m\u001b[43mattrs\u001b[49m\u001b[38;5;241;43m=\u001b[39;49m\u001b[43mattrs\u001b[49m\u001b[43m,\u001b[49m\n\u001b[1;32m    383\u001b[0m \u001b[43m        \u001b[49m\u001b[43mctx\u001b[49m\u001b[38;5;241;43m=\u001b[39;49m\u001b[43mctx\u001b[49m\u001b[43m)\u001b[49m\n\u001b[1;32m    384\u001b[0m   \u001b[38;5;28;01melse\u001b[39;00m:\n\u001b[1;32m    385\u001b[0m     outputs \u001b[38;5;241m=\u001b[39m execute\u001b[38;5;241m.\u001b[39mexecute_with_cancellation(\n\u001b[1;32m    386\u001b[0m         \u001b[38;5;28mstr\u001b[39m(\u001b[38;5;28mself\u001b[39m\u001b[38;5;241m.\u001b[39msignature\u001b[38;5;241m.\u001b[39mname),\n\u001b[1;32m    387\u001b[0m         num_outputs\u001b[38;5;241m=\u001b[39m\u001b[38;5;28mself\u001b[39m\u001b[38;5;241m.\u001b[39m_num_outputs,\n\u001b[0;32m   (...)\u001b[0m\n\u001b[1;32m    390\u001b[0m         ctx\u001b[38;5;241m=\u001b[39mctx,\n\u001b[1;32m    391\u001b[0m         cancellation_manager\u001b[38;5;241m=\u001b[39mcancellation_manager)\n",
      "File \u001b[0;32m/opt/calstatela/mambaforge/lib/python3.10/site-packages/tensorflow/python/eager/execute.py:52\u001b[0m, in \u001b[0;36mquick_execute\u001b[0;34m(op_name, num_outputs, inputs, attrs, ctx, name)\u001b[0m\n\u001b[1;32m     50\u001b[0m \u001b[38;5;28;01mtry\u001b[39;00m:\n\u001b[1;32m     51\u001b[0m   ctx\u001b[38;5;241m.\u001b[39mensure_initialized()\n\u001b[0;32m---> 52\u001b[0m   tensors \u001b[38;5;241m=\u001b[39m \u001b[43mpywrap_tfe\u001b[49m\u001b[38;5;241;43m.\u001b[39;49m\u001b[43mTFE_Py_Execute\u001b[49m\u001b[43m(\u001b[49m\u001b[43mctx\u001b[49m\u001b[38;5;241;43m.\u001b[39;49m\u001b[43m_handle\u001b[49m\u001b[43m,\u001b[49m\u001b[43m \u001b[49m\u001b[43mdevice_name\u001b[49m\u001b[43m,\u001b[49m\u001b[43m \u001b[49m\u001b[43mop_name\u001b[49m\u001b[43m,\u001b[49m\n\u001b[1;32m     53\u001b[0m \u001b[43m                                      \u001b[49m\u001b[43minputs\u001b[49m\u001b[43m,\u001b[49m\u001b[43m \u001b[49m\u001b[43mattrs\u001b[49m\u001b[43m,\u001b[49m\u001b[43m \u001b[49m\u001b[43mnum_outputs\u001b[49m\u001b[43m)\u001b[49m\n\u001b[1;32m     54\u001b[0m \u001b[38;5;28;01mexcept\u001b[39;00m core\u001b[38;5;241m.\u001b[39m_NotOkStatusException \u001b[38;5;28;01mas\u001b[39;00m e:\n\u001b[1;32m     55\u001b[0m   \u001b[38;5;28;01mif\u001b[39;00m name \u001b[38;5;129;01mis\u001b[39;00m \u001b[38;5;129;01mnot\u001b[39;00m \u001b[38;5;28;01mNone\u001b[39;00m:\n",
      "\u001b[0;31mKeyboardInterrupt\u001b[0m: "
     ]
    }
   ],
   "source": [
    "import csv\n",
    "import time\n",
    "\n",
    "physics_hyperparam = [0.002]\n",
    "epochs = [100]\n",
    "lr_schedule = ExponentialDecay(\n",
    "        initial_learning_rate=0.0001,\n",
    "        decay_steps=5000,\n",
    "        decay_rate=0.85,\n",
    "        staircase=True\n",
    "    )\n",
    "\n",
    "y_differences = []\n",
    "total_losses = []\n",
    "empirical_losses = []\n",
    "physics_losses = []\n",
    "all_results=[]\n",
    "start = time.time()   \n",
    "for epoch in epochs:\n",
    "        for physics_weight in physics_hyperparam:\n",
    "            print(\"---------- Hyperparameter combinations ------------\")\n",
    "            print(\"Epoch : {};  physics_weight: {};\".format(str(epoch),  str(physics_weight)))\n",
    "\n",
    "            m = PGGCNModel()\n",
    "            m.addRule(\"sum\", 0, 32)\n",
    "            m.addRule(\"multiply\", 32, 33)\n",
    "            m.addRule(\"distance\", 33, 36)\n",
    "\n",
    "            opt = tf.keras.optimizers.Adam(learning_rate=0.0005)\n",
    "            m.compile(loss=combined_loss(physics_weight), optimizer=opt)\n",
    "\n",
    "            input_shapes = []\n",
    "            for i in range(len(X_train)):\n",
    "                input_shapes.append(np.array(X_train[i]).shape[0])\n",
    "            m.set_input_shapes(input_shapes)\n",
    "            for i in range(len(X_train)):\n",
    "                if X_train[i].shape[0] < 12000:\n",
    "                    new_list = np.zeros([12000 - X_train[i].shape[0], 53])\n",
    "                    X_train[i] = np.concatenate([X_train[i], new_list], 0)\n",
    "            X_train = np.array(X_train)\n",
    "            y_train = np.array(y_train)\n",
    "            \n",
    "\n",
    "            loss_tracker = LossComponentsCallback(m)\n",
    "\n",
    "            # Add early stopping\n",
    "            early_stopping = EarlyStopping(\n",
    "                monitor='loss',           \n",
    "                patience=10,              \n",
    "                restore_best_weights=True, \n",
    "                min_delta=0.001,          \n",
    "                verbose=1                 \n",
    "            )\n",
    "\n",
    "            hist = m.fit(X_train, y_train, epochs = epoch, batch_size=len(X_train),callbacks=[loss_tracker])\n",
    "\n",
    "\n",
    "            input_shapes = []\n",
    "            for i in range(len(X_test)):\n",
    "                input_shapes.append(np.array(X_test[i]).shape[0])\n",
    "            m.set_input_shapes(input_shapes)\n",
    "\n",
    "            for i in range(len(X_test)):\n",
    "                if X_test[i].shape[0] < 12000:\n",
    "                    new_list = np.zeros([12000 - X_test[i].shape[0], 53])\n",
    "                    X_test[i] = np.concatenate([X_test[i], new_list], 0)\n",
    "            X_test = np.array(X_test)\n",
    "            x_c = copy.deepcopy(X_test)\n",
    "            y_test = np.array(y_test)\n",
    "            y_pred_test = m.predict(X_test)\n",
    "            y_pred_test = np.array(y_pred_test[:,0])\n",
    "\n",
    "            y_difference = np.mean(np.abs(np.abs(y_test) - np.abs(y_pred_test)))\n",
    "            eval = m.evaluate(X_test, y_test)\n",
    "            print(\"The mean absolute difference between y_tru & y_pred is : {}\" .format(str(y_difference)))\n",
    "\n",
    "            final_train_loss = loss_tracker.total_losses[-1] if loss_tracker.total_losses else None\n",
    "            \n",
    "            result = {\n",
    "                            'epochs': epoch,\n",
    "                            'physics_weight': physics_weight,\n",
    "                            'y_difference': y_difference,\n",
    "                            'test_loss': eval,\n",
    "                            'final_train_loss': final_train_loss\n",
    "                     }\n",
    "            all_results.append(result)  # Add to list of all results\n",
    "        # Plot all loss components over epochs\n",
    "        plt.figure(figsize=(12, 8))\n",
    "\n",
    "        epoch_length = range(1, len(loss_tracker.total_losses) + 1)\n",
    "\n",
    "        # Total loss\n",
    "        plt.subplot(2, 2, 1)\n",
    "        plt.plot(epoch_length, loss_tracker.total_losses, 'b-', label='Total Loss')\n",
    "        plt.title('Total Loss')\n",
    "        plt.xlabel('Epochs')\n",
    "        plt.ylabel('Loss')\n",
    "        plt.legend()\n",
    "\n",
    "csv_filename = 'grid_search_results.csv'\n",
    "with open(csv_filename, 'w', newline='') as csvfile:\n",
    "    fieldnames = [\n",
    "        'epochs', 'physics_weight','y_difference', 'test_loss', 'final_train_loss'\n",
    "    ]\n",
    "    writer = csv.DictWriter(csvfile, fieldnames=fieldnames)\n",
    "    writer.writeheader()\n",
    "    \n",
    "    for r in all_results:\n",
    "        writer.writerow(r)\n",
    "end = time.time()           \n",
    "print(\"Number of epochs: {} Epoch runtime is {} minutes\".format(str(epoch),((end - start)/60)))\n",
    "\n",
    "\n",
    "\n",
    "\n",
    "#     # Learning rate\n",
    "#     plt.subplot(2, 2, 2)\n",
    "#     plt.plot(epochs, loss_tracker.learning_rates, 'g-', label='Learning Rate')\n",
    "#     plt.title('Learning Rate')\n",
    "#     plt.xlabel('Epochs')\n",
    "#     plt.ylabel('Learning Rate')\n",
    "#     plt.legend()\n",
    "\n",
    "#     plt.tight_layout()\n",
    "#     plt.savefig('loss_components.png')\n",
    "#     plt.show()"
   ]
  },
  {
   "cell_type": "code",
   "execution_count": 21,
   "id": "e3eb03bc",
   "metadata": {},
   "outputs": [
    {
     "name": "stdout",
     "output_type": "stream",
     "text": [
      "[PhysicalDevice(name='/physical_device:GPU:0', device_type='GPU')]\n"
     ]
    }
   ],
   "source": [
    "print(tf.config.list_physical_devices('GPU')) "
   ]
  },
  {
   "cell_type": "code",
   "execution_count": null,
   "id": "8b7d2468",
   "metadata": {},
   "outputs": [],
   "source": [
    "gpus = tf.config.list_physical_devices('GPU')\n",
    "if gpus:\n",
    "    tf.config.experimental.set_memory_growth(gpus[0], True)  # Now applies to GPU 3"
   ]
  },
  {
   "cell_type": "code",
   "execution_count": null,
   "id": "8f0e7e8a",
   "metadata": {},
   "outputs": [],
   "source": [
    "if gpus:\n",
    "    tf.config.experimental.set_memory_growth(gpus[0], True)\n",
    "    x = tf.random.normal((10000, 10000))\n",
    "    y = tf.matmul(x, x)\n",
    "    print(y.numpy().mean()) "
   ]
  },
  {
   "cell_type": "code",
   "execution_count": null,
   "id": "955ba9d5",
   "metadata": {},
   "outputs": [],
   "source": [
    "%cd BFE-Loss-Function/"
   ]
  },
  {
   "cell_type": "code",
   "execution_count": null,
   "id": "9ad5b55d",
   "metadata": {},
   "outputs": [],
   "source": [
    "PDBs_BRD = pickle.load(open('PDBs_BRD4.pkl', 'rb'))\n",
    "df_test = pd.read_csv('BRD4_Test.csv')"
   ]
  },
  {
   "cell_type": "code",
   "execution_count": null,
   "id": "d6f61cb9",
   "metadata": {},
   "outputs": [],
   "source": [
    "info_brd4 = []\n",
    "for pdb in list(PDBs_BRD.keys()):\n",
    "    info_brd4.append(df_test[df_test['Ids'] == pdb][['pb_host_VDWAALS', 'pb_guest_VDWAALS', 'pb_complex_VDWAALS', 'gb_host_1-4EEL', 'gb_guest_1-4EEL', 'gb_Complex_1-4EEL',\n",
    "       'gb_host_EELEC', 'gb_guest_EELEC', 'gb_Complex_EELEC', 'gb_host_EGB', 'gb_guest_EGB', 'gb_Complex_EGB', 'gb_host_ESURF', 'gb_guest_ESURF', 'gb_Complex_ESURF']].to_numpy()[0])"
   ]
  },
  {
   "cell_type": "code",
   "execution_count": null,
   "id": "a6f95f5f",
   "metadata": {},
   "outputs": [],
   "source": [
    "df_test"
   ]
  },
  {
   "cell_type": "code",
   "execution_count": null,
   "id": "7e5eb69f",
   "metadata": {},
   "outputs": [],
   "source": [
    "X_brd4 = []\n",
    "y_brd4 = []\n",
    "for i, pdb in enumerate(list(PDBs_BRD.keys())):\n",
    "    X_brd4.append(featurize(PDBs_BRD[pdb], info_brd4[i]))\n",
    "    y_brd4.append(df_test[df_test['Ids'] == pdb]['Ex _G_(kcal/mol)'].to_numpy()[0])\n"
   ]
  },
  {
   "cell_type": "code",
   "execution_count": null,
   "id": "0c3d9d9e",
   "metadata": {},
   "outputs": [],
   "source": [
    "len(X_brd4), len(y_brd4)"
   ]
  },
  {
   "cell_type": "code",
   "execution_count": null,
   "id": "9ac80b02",
   "metadata": {},
   "outputs": [],
   "source": [
    "# X_brd4"
   ]
  },
  {
   "cell_type": "code",
   "execution_count": null,
   "id": "2ad7f16b",
   "metadata": {},
   "outputs": [],
   "source": [
    "\n",
    "input_shapes = []\n",
    "for i in range(len(X_brd4)):\n",
    "    input_shapes.append(np.array(X_brd4[i]).shape[0])\n",
    "m.set_input_shapes(input_shapes)\n",
    "\n",
    "for i in range(len(X_brd4)):\n",
    "    if X_brd4[i].shape[0] < 2000:\n",
    "        new_list = np.zeros([2000 - X_brd4[i].shape[0], 53])\n",
    "        X_brd4[i] = np.concatenate([X_brd4[i], new_list], 0)\n",
    "X_brd4 = np.array(X_brd4)\n",
    "x_c = copy.deepcopy(X_brd4)\n",
    "y_brd4 = np.array(y_brd4)\n",
    "y_brd4_test = m.predict(X_brd4)\n",
    "y_brd4_test = np.array(y_brd4_test[:,0])\n",
    "\n",
    "y_difference = np.mean(np.abs(y_brd4 - y_brd4_test))\n",
    "eval = m.evaluate(X_brd4, y_brd4,len(X_brd4))\n",
    "print(\"The mean absolute difference between y_tru & y_pred is : {}\" .format(str(y_difference)))\n",
    "\n",
    "print(y_difference)\n",
    "\n",
    "\n"
   ]
  },
  {
   "cell_type": "code",
   "execution_count": null,
   "id": "d7d5bce9",
   "metadata": {},
   "outputs": [],
   "source": [
    "# y_pred = m.predict(X_test, batch_size=53)\n",
    "# print(\"Predictions:\", y_pred)"
   ]
  },
  {
   "cell_type": "code",
   "execution_count": null,
   "id": "ce162696",
   "metadata": {},
   "outputs": [],
   "source": []
  }
 ],
 "metadata": {
  "kernelspec": {
   "display_name": "Python 3 (ipykernel)",
   "language": "python",
   "name": "python3"
  },
  "language_info": {
   "codemirror_mode": {
    "name": "ipython",
    "version": 3
   },
   "file_extension": ".py",
   "mimetype": "text/x-python",
   "name": "python",
   "nbconvert_exporter": "python",
   "pygments_lexer": "ipython3",
   "version": "3.10.11"
  }
 },
 "nbformat": 4,
 "nbformat_minor": 5
}
