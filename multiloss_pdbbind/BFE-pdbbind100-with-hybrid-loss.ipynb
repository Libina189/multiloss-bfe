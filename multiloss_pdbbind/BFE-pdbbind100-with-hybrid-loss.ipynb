{
 "cells": [
  {
   "cell_type": "markdown",
   "id": "a54e830f",
   "metadata": {},
   "source": [
    "## Initialize all imports"
   ]
  },
  {
   "cell_type": "code",
   "execution_count": 1,
   "id": "552b4cfb",
   "metadata": {},
   "outputs": [
    {
     "name": "stderr",
     "output_type": "stream",
     "text": [
      "2025-04-28 15:49:13.942172: I tensorflow/core/platform/cpu_feature_guard.cc:193] This TensorFlow binary is optimized with oneAPI Deep Neural Network Library (oneDNN) to use the following CPU instructions in performance-critical operations:  SSE4.1 SSE4.2 AVX AVX2 AVX512F AVX512_VNNI FMA\n",
      "To enable them in other operations, rebuild TensorFlow with the appropriate compiler flags.\n",
      "2025-04-28 15:49:14.010323: I tensorflow/core/util/port.cc:104] oneDNN custom operations are on. You may see slightly different numerical results due to floating-point round-off errors from different computation orders. To turn them off, set the environment variable `TF_ENABLE_ONEDNN_OPTS=0`.\n",
      "No normalization for SPS. Feature removed!\n",
      "No normalization for AvgIpc. Feature removed!\n",
      "No normalization for NumAmideBonds. Feature removed!\n",
      "No normalization for NumAtomStereoCenters. Feature removed!\n",
      "No normalization for NumBridgeheadAtoms. Feature removed!\n",
      "No normalization for NumHeterocycles. Feature removed!\n",
      "No normalization for NumSpiroAtoms. Feature removed!\n",
      "No normalization for NumUnspecifiedAtomStereoCenters. Feature removed!\n",
      "No normalization for Phi. Feature removed!\n",
      "Skipped loading modules with pytorch-geometric dependency, missing a dependency. No module named 'torch_geometric'\n",
      "Skipped loading modules with transformers dependency. No module named 'transformers'\n",
      "cannot import name 'HuggingFaceModel' from 'deepchem.models.torch_models' (/home/lthoma21/.local/lib/python3.10/site-packages/deepchem/models/torch_models/__init__.py)\n",
      "Skipped loading modules with pytorch-geometric dependency, missing a dependency. cannot import name 'DMPNN' from 'deepchem.models.torch_models' (/home/lthoma21/.local/lib/python3.10/site-packages/deepchem/models/torch_models/__init__.py)\n",
      "Skipped loading modules with pytorch-lightning dependency, missing a dependency. No module named 'lightning'\n",
      "Skipped loading some Jax models, missing a dependency. No module named 'jax'\n"
     ]
    }
   ],
   "source": [
    "import os\n",
    "import conda_installer\n",
    "os.environ[\"CUDA_VISIBLE_DEVICES\"] = \"3\"  # Must come BEFORE importing TensorFlow\n",
    "os.environ['XLA_FLAGS'] = '--xla_gpu_cuda_data_dir=/opt/nvidia/cuda/cuda-11.6'\n",
    "import pandas as pd\n",
    "import tensorflow as tf\n",
    "import numpy as np\n",
    "from rdkit import Chem\n",
    "from deepchem.feat.graph_features import atom_features as get_atom_features\n",
    "import rdkit\n",
    "import pickle\n",
    "import copy\n",
    "import matplotlib.pyplot as plt\n",
    "\n",
    "\n",
    "from sklearn.model_selection import train_test_split\n",
    "from sklearn.preprocessing import StandardScaler\n",
    "\n",
    "\n",
    "import importlib\n",
    "import keras.backend as K\n",
    "# import tensorflow_addons as tfa\n",
    "from tensorflow.keras import regularizers, constraints, callbacks\n",
    "\n",
    "import sys\n",
    "from tensorflow.keras.callbacks import EarlyStopping\n",
    "\n",
    "from tensorflow.keras.optimizers.schedules import ExponentialDecay\n",
    "from tensorflow.keras.optimizers import Adam\n"
   ]
  },
  {
   "cell_type": "markdown",
   "id": "803996a2",
   "metadata": {},
   "source": [
    "## Read Input data & Change directory"
   ]
  },
  {
   "cell_type": "code",
   "execution_count": 2,
   "id": "58cb2c04",
   "metadata": {},
   "outputs": [],
   "source": [
    "df = pd.read_csv('Datasets/pdbbind_100.csv')\n",
    "PDBs = pickle.load(open('Datasets/PDBBind_100.pkl', 'rb'))\n"
   ]
  },
  {
   "cell_type": "code",
   "execution_count": 3,
   "id": "4289c74a",
   "metadata": {},
   "outputs": [],
   "source": [
    "df = df[df['complex-name'] != '1.00E+66']\n"
   ]
  },
  {
   "cell_type": "code",
   "execution_count": 4,
   "id": "6f00bdc5",
   "metadata": {},
   "outputs": [
    {
     "data": {
      "text/plain": [
       "98"
      ]
     },
     "execution_count": 4,
     "metadata": {},
     "output_type": "execute_result"
    }
   ],
   "source": [
    "len(df)"
   ]
  },
  {
   "cell_type": "markdown",
   "id": "2596faa9",
   "metadata": {},
   "source": [
    "#### PDB PICKLE FILE GENERATION FOR 100 molecule [NOT NEEDED]"
   ]
  },
  {
   "cell_type": "code",
   "execution_count": 5,
   "id": "54e1586f",
   "metadata": {},
   "outputs": [],
   "source": [
    "\n",
    "# complex_names_df = df['complex-name'].to_numpy()\n",
    "# PDBs = {}\n",
    "# from os import listdir\n",
    "# from os.path import isfile, join\n",
    "# mypath = 'pdbbind_complex'\n",
    "# onlyfiles = [f for f in listdir(mypath) if isfile(join(mypath, f))]\n",
    "# for f in onlyfiles:\n",
    "#     if f.split('.')[0] in complex_names_df:\n",
    "#         PDBs.update({f.split('.')[0] : rdkit.Chem.rdmolfiles.MolFromPDBFile(mypath + '/' + f)})\n",
    "        \n",
    "# PDBs = {pdb: value for pdb, value in PDBs.items() if value is not None}\n",
    "# pkl_file = open('PDBBind_100.pkl', 'wb')\n",
    "# pickle.dump(PDBs, pkl_file)\n",
    "# pkl_file.close()"
   ]
  },
  {
   "cell_type": "markdown",
   "id": "ab56438f",
   "metadata": {},
   "source": [
    "## DATA PREPROCESSING df ~ pdb"
   ]
  },
  {
   "cell_type": "code",
   "execution_count": 6,
   "id": "81bb6f6a",
   "metadata": {},
   "outputs": [
    {
     "data": {
      "text/plain": [
       "98"
      ]
     },
     "execution_count": 6,
     "metadata": {},
     "output_type": "execute_result"
    }
   ],
   "source": [
    "pdb_keys = set(PDBs.keys())\n",
    "df_filtered = df[df['complex-name'].isin(pdb_keys)]\n",
    "len(df_filtered)"
   ]
  },
  {
   "cell_type": "code",
   "execution_count": 7,
   "id": "40f14af4",
   "metadata": {},
   "outputs": [],
   "source": [
    "df_final = df_filtered[['complex-name','pb-protein-vdwaals', 'pb-ligand-vdwaals', 'pb-complex-vdwaals', 'gb-protein-1-4-eel', 'gb-ligand-1-4-eel', 'gb-complex-1-4-eel',\n",
    "       'gb-protein-eelect', 'gb-ligand-eelec', 'gb-complex-eelec', 'gb-protein-egb', 'gb-ligand-egb', 'gb-complex-egb', 'gb-protein-esurf', 'gb-ligand-esurf', 'gb-complex-esurf','ddg']]"
   ]
  },
  {
   "cell_type": "code",
   "execution_count": 8,
   "id": "6f033dea",
   "metadata": {},
   "outputs": [
    {
     "data": {
      "text/plain": [
       "98"
      ]
     },
     "execution_count": 8,
     "metadata": {},
     "output_type": "execute_result"
    }
   ],
   "source": [
    "len(df_final)"
   ]
  },
  {
   "cell_type": "markdown",
   "id": "cf6102ae",
   "metadata": {},
   "source": [
    "## Data pre-processing"
   ]
  },
  {
   "cell_type": "code",
   "execution_count": 9,
   "id": "4c8593ea",
   "metadata": {},
   "outputs": [
    {
     "data": {
      "text/plain": [
       "<module 'models.layers_update_mobley' from '/home/lthoma21/BFE-Loss-Function/FINAL-PDBBIND-FILES/models/layers_update_mobley.py'>"
      ]
     },
     "execution_count": 9,
     "metadata": {},
     "output_type": "execute_result"
    }
   ],
   "source": [
    "import models.layers_update_mobley as layers\n",
    "from models.dcFeaturizer import atom_features as get_atom_features\n",
    "importlib.reload(layers)"
   ]
  },
  {
   "cell_type": "code",
   "execution_count": 10,
   "id": "4c3e71ff",
   "metadata": {},
   "outputs": [],
   "source": [
    "info = []\n",
    "for pdb in list(PDBs.keys()):\n",
    "    info.append(df_final[df_final['complex-name'] == pdb][['pb-protein-vdwaals', 'pb-ligand-vdwaals', 'pb-complex-vdwaals', 'gb-protein-1-4-eel', 'gb-ligand-1-4-eel', 'gb-complex-1-4-eel',\n",
    "       'gb-protein-eelect', 'gb-ligand-eelec', 'gb-complex-eelec', 'gb-protein-egb', 'gb-ligand-egb', 'gb-complex-egb', 'gb-protein-esurf', 'gb-ligand-esurf', 'gb-complex-esurf']].to_numpy()[0])"
   ]
  },
  {
   "cell_type": "code",
   "execution_count": 11,
   "id": "564285a2",
   "metadata": {},
   "outputs": [],
   "source": [
    "def featurize(molecule, info):\n",
    "    \n",
    "    atom_features = []\n",
    "    for atom in molecule.GetAtoms():\n",
    "        new_feature = get_atom_features(atom).tolist()\n",
    "        position = molecule.GetConformer().GetAtomPosition(atom.GetIdx())\n",
    "        new_feature += [atom.GetMass(), atom.GetAtomicNum(),atom.GetFormalCharge()]\n",
    "        new_feature += [position.x, position.y, position.z]\n",
    "        for neighbor in atom.GetNeighbors()[:2]:\n",
    "            neighbor_idx = neighbor.GetIdx()\n",
    "            new_feature += [neighbor_idx]\n",
    "        for i in range(2 - len(atom.GetNeighbors())):\n",
    "            new_feature += [-1]\n",
    "\n",
    "        atom_features.append(np.concatenate([new_feature, info], 0))\n",
    "    return np.array(atom_features)"
   ]
  },
  {
   "cell_type": "code",
   "execution_count": 12,
   "id": "8aeaabc3",
   "metadata": {},
   "outputs": [],
   "source": [
    "X = []\n",
    "y = []\n",
    "for i, pdb in enumerate(list(PDBs.keys())):\n",
    "    X.append(featurize(PDBs[pdb], info[i]))\n",
    "    y.append(df_final[df_final['complex-name'] == pdb]['ddg'].to_numpy()[0])\n"
   ]
  },
  {
   "cell_type": "code",
   "execution_count": 13,
   "id": "6193f292",
   "metadata": {},
   "outputs": [],
   "source": [
    "#  To find max number of atoms in the Dataframe after featurizing\n",
    "# Required to provide max_atom_number for padding the X_train\n",
    "# x = []\n",
    "# y=[]\n",
    "# for i in range(len(X)):\n",
    "#     shape = X[i].shape\n",
    "#     x.append(shape[0])\n",
    "#     y.append(shape[1])\n",
    "# max(x)\n"
   ]
  },
  {
   "cell_type": "code",
   "execution_count": 14,
   "id": "10c526d1",
   "metadata": {},
   "outputs": [],
   "source": [
    "# Split the data into training and testing sets\n",
    "# Randomly shuffles the data before splitting, ensuring that the training and testing sets are representative of the overall dataset.\n",
    "X_train, X_test, y_train, y_test = train_test_split(X, y, test_size=0.2, random_state=50)\n"
   ]
  },
  {
   "cell_type": "code",
   "execution_count": 15,
   "id": "3ef9fcf0",
   "metadata": {},
   "outputs": [
    {
     "data": {
      "text/plain": [
       "(78, 20, 78, 20)"
      ]
     },
     "execution_count": 15,
     "metadata": {},
     "output_type": "execute_result"
    }
   ],
   "source": [
    "len(X_train), len(X_test), len(y_train), len(y_test)"
   ]
  },
  {
   "cell_type": "markdown",
   "id": "fae5050f",
   "metadata": {},
   "source": [
    "## Helper Functions"
   ]
  },
  {
   "cell_type": "code",
   "execution_count": 16,
   "id": "0d43cc85",
   "metadata": {},
   "outputs": [],
   "source": [
    "\n",
    "class PGGCNModel(tf.keras.Model):\n",
    "    def __init__(self, num_atom_features=36, r_out_channel=20, c_out_channel=1024, l2=1e-2, dropout_rate=0.4, maxnorm=3.0):\n",
    "        super().__init__()\n",
    "        self.ruleGraphConvLayer = layers.RuleGraphConvLayer(r_out_channel, num_atom_features, 0)\n",
    "        self.ruleGraphConvLayer.combination_rules = []\n",
    "        self.conv = layers.ConvLayer(c_out_channel, r_out_channel)\n",
    "        self.dense1 = tf.keras.layers.Dense(32, activation='relu', name='dense1', kernel_regularizer=regularizers.l2(l2), bias_regularizer=regularizers.l2(l2), kernel_constraint=constraints.MaxNorm(maxnorm))\n",
    "        self.dropout1 = tf.keras.layers.Dropout(dropout_rate)\n",
    "        self.dense5 = tf.keras.layers.Dense(16, activation='relu', name='dense2', kernel_regularizer=regularizers.l2(l2), bias_regularizer=regularizers.l2(l2), kernel_constraint=constraints.MaxNorm(maxnorm))\n",
    "        self.dropout2 = tf.keras.layers.Dropout(dropout_rate)\n",
    "        self.dense6 = tf.keras.layers.Dense(1, name='dense6', kernel_regularizer=regularizers.l2(l2), bias_regularizer=regularizers.l2(l2), kernel_constraint=constraints.MaxNorm(maxnorm))\n",
    "        self.dense7 = tf.keras.layers.Dense(1, name='dense7',\n",
    "                                             kernel_initializer=tf.keras.initializers.Constant([0.3, 1, 1, -1, 1, 1, -1, 1, 1, -1, 1, 1, -1, 1, 1, -1]),\n",
    "                                             bias_initializer=tf.keras.initializers.Zeros(),\n",
    "                                             kernel_regularizer=regularizers.l2(l2), \n",
    "                                             bias_regularizer=regularizers.l2(l2), \n",
    "                                             kernel_constraint=constraints.MaxNorm(maxnorm))\n",
    "\n",
    "    def addRule(self, rule, start_index, end_index=None):\n",
    "        self.ruleGraphConvLayer.addRule(rule, start_index, end_index)\n",
    "        \n",
    "    def set_input_shapes(self, i_s):\n",
    "        self.i_s = i_s\n",
    "\n",
    "    def call(self, inputs, training=False):\n",
    "        print(\"Inside call\")\n",
    "        physics_info = inputs[:, 0, 38:] \n",
    "        x_a = []\n",
    "        for i in range(len(self.i_s)):\n",
    "            x_a.append(inputs[i][:self.i_s[i], :38])\n",
    "        x = self.ruleGraphConvLayer(x_a)\n",
    "        x = self.conv(x)\n",
    "        x = self.dense1(x)\n",
    "        x = self.dropout1(x, training=training)\n",
    "        x = self.dense5(x)\n",
    "        x = self.dropout2(x, training=training)\n",
    "        model_var = self.dense6(x)\n",
    "        merged = tf.concat([model_var, physics_info], axis=1)\n",
    "        out = self.dense7(merged)\n",
    "        return tf.concat([out, physics_info], axis=1)\n",
    "    \n",
    "class LossComponentsCallback(tf.keras.callbacks.Callback):\n",
    "    def __init__(self,model_instance):\n",
    "        super().__init__()\n",
    "        self.empirical_losses = []\n",
    "        self.physical_losses = []\n",
    "        self.total_losses = []\n",
    "        self.learning_rates = []\n",
    "        self.model = model_instance\n",
    "        \n",
    "    def on_epoch_end(self, epoch, logs=None):\n",
    "        logs = logs or {}\n",
    "        # Store the total loss\n",
    "        self.total_losses.append(logs.get('loss'))\n",
    "        lr = self.model.optimizer.learning_rate\n",
    "        if isinstance(lr, tf.keras.optimizers.schedules.LearningRateSchedule):\n",
    "            lr = lr(self.model.optimizer.iterations)  # Call the schedule\n",
    "        else:\n",
    "            lr = lr  \n",
    "\n",
    "        self.learning_rates.append(float(tf.keras.backend.get_value(lr)))\n",
    "\n",
    "\n",
    "def root_mean_squared_error(y_true, y_pred):\n",
    "    return K.sqrt(K.mean(K.square(y_pred[0] - y_true))) + K.abs(1 / K.mean(.2 + y_pred[1]))\n",
    "\n",
    "\n",
    "def pure_rmse(y_true, y_pred):\n",
    "    y_true_flat = tf.reshape(y_true, [-1])\n",
    "    return K.sqrt(K.mean(K.square(y_pred - y_true_flat)))\n",
    "\n",
    "def physical_consistency_loss(y_true,y_pred,physics_info):\n",
    "    y_true = tf.cast(y_true, tf.float32)\n",
    "    y_pred = tf.cast(y_pred, tf.float32)\n",
    "    dG_pred = y_pred\n",
    "    y_true = tf.reshape(y_true, (-1, 1))\n",
    "\n",
    "    # Physical Inconsistency loss\n",
    "    # Extract the components from physics_info\n",
    "    host = tf.gather(physics_info, [0, 3, 6, 9, 12], axis=1)  # Host energy terms\n",
    "    guest = tf.gather(physics_info, [1, 4, 7, 10, 13], axis=1)  # Guest energy terms\n",
    "    complex_ = tf.gather(physics_info, [2, 5, 8, 11, 14], axis=1)  # Complex energy terms\n",
    "\n",
    "    # Calculate ΔG based on physics: ΔG = ΔGcomplex - (ΔGhost + ΔGguest)\n",
    "    dG_physics = tf.reduce_sum(complex_, axis=1, keepdims=True) - (tf.reduce_sum(host, axis=1, keepdims=True) + tf.reduce_sum(guest, axis=1, keepdims=True))\n",
    "    phy_loss = K.sqrt(K.mean(K.square(dG_pred - dG_physics)))\n",
    "#     tf.print(\"dG_physics:\", dG_physics)\n",
    "#     tf.print(\"dG_pred:\", dG_pred)\n",
    "    return phy_loss\n",
    "\n",
    "\n",
    "\n",
    "def combined_loss(physics_hyperparam=0.0003):\n",
    "    def loss_function(y_true, y_pred):\n",
    "        # Extract prediction and physics info\n",
    "#         y_true = tf.cast(y_true, tf.float32)\n",
    "#         y_pred = tf.cast(y_pred, tf.float32)\n",
    "        prediction = y_pred[:, 0]\n",
    "        physics_info = y_pred[:, 1:16]  # Assuming 15 physical features\n",
    "        \n",
    "        # Calculate individual loss components\n",
    "        empirical_loss = pure_rmse(y_true, prediction)\n",
    "        physics_loss = physical_consistency_loss(y_true, prediction, physics_info)\n",
    "        \n",
    "        # Combine losses with weights\n",
    "        total_loss = empirical_loss + (physics_hyperparam * physics_loss)\n",
    "        \n",
    "        return total_loss\n",
    "    \n",
    "    return loss_function\n",
    "\n",
    "\n",
    "\n",
    "\n"
   ]
  },
  {
   "cell_type": "code",
   "execution_count": 17,
   "id": "118b5098",
   "metadata": {},
   "outputs": [
    {
     "data": {
      "text/plain": [
       "(4193, 53)"
      ]
     },
     "execution_count": 17,
     "metadata": {},
     "output_type": "execute_result"
    }
   ],
   "source": [
    "X_train[0].shape"
   ]
  },
  {
   "cell_type": "code",
   "execution_count": null,
   "id": "385e875e",
   "metadata": {
    "scrolled": false
   },
   "outputs": [
    {
     "name": "stdout",
     "output_type": "stream",
     "text": [
      "---------- Hyperparameter combinations ------------\n",
      "Epoch : 100;  physics_weight: 2e-06;\n"
     ]
    },
    {
     "name": "stderr",
     "output_type": "stream",
     "text": [
      "2025-04-28 15:50:55.603444: E tensorflow/compiler/xla/stream_executor/cuda/cuda_driver.cc:267] failed call to cuInit: CUDA_ERROR_NO_DEVICE: no CUDA-capable device is detected\n",
      "2025-04-28 15:50:55.603478: I tensorflow/compiler/xla/stream_executor/cuda/cuda_diagnostics.cc:156] kernel driver does not appear to be running on this host (curie.cluster): /proc/driver/nvidia/version does not exist\n",
      "2025-04-28 15:50:55.604545: I tensorflow/core/platform/cpu_feature_guard.cc:193] This TensorFlow binary is optimized with oneAPI Deep Neural Network Library (oneDNN) to use the following CPU instructions in performance-critical operations:  SSE4.1 SSE4.2 AVX AVX2 AVX512F AVX512_VNNI FMA\n",
      "To enable them in other operations, rebuild TensorFlow with the appropriate compiler flags.\n"
     ]
    },
    {
     "name": "stdout",
     "output_type": "stream",
     "text": [
      "Epoch 1/100\n",
      "Inside call\n",
      "WARNING:tensorflow:From /opt/calstatela/mambaforge/lib/python3.10/site-packages/tensorflow/python/autograph/pyct/static_analysis/liveness.py:83: Analyzer.lamba_check (from tensorflow.python.autograph.pyct.static_analysis.liveness) is deprecated and will be removed after 2023-09-23.\n",
      "Instructions for updating:\n",
      "Lambda fuctions will be no more assumed to be used in the statement where they are used, or at least in the same block. https://github.com/tensorflow/tensorflow/issues/56089\n",
      "Inside call\n",
      "1/1 [==============================] - 134s 134s/step - loss: 50.0718\n",
      "Epoch 2/100\n",
      "1/1 [==============================] - 61s 61s/step - loss: 38.6989\n",
      "Epoch 3/100\n",
      "1/1 [==============================] - 50s 50s/step - loss: 39.1198\n",
      "Epoch 4/100\n",
      "1/1 [==============================] - 50s 50s/step - loss: 38.5468\n",
      "Epoch 5/100\n",
      "1/1 [==============================] - 50s 50s/step - loss: 38.3115\n",
      "Epoch 6/100\n",
      "1/1 [==============================] - 51s 51s/step - loss: 38.4734\n",
      "Epoch 7/100\n",
      "1/1 [==============================] - 50s 50s/step - loss: 38.3098\n",
      "Epoch 8/100\n",
      "1/1 [==============================] - 48s 48s/step - loss: 37.9689\n",
      "Epoch 9/100\n",
      "1/1 [==============================] - 49s 49s/step - loss: 37.8320\n",
      "Epoch 10/100\n",
      "1/1 [==============================] - 50s 50s/step - loss: 37.8559\n",
      "Epoch 11/100\n",
      "1/1 [==============================] - 49s 49s/step - loss: 37.7497\n",
      "Epoch 12/100\n",
      "1/1 [==============================] - 51s 51s/step - loss: 37.5135\n",
      "Epoch 13/100\n",
      "1/1 [==============================] - 48s 48s/step - loss: 37.3522\n",
      "Epoch 14/100\n",
      "1/1 [==============================] - 50s 50s/step - loss: 37.3181\n",
      "Epoch 15/100\n"
     ]
    }
   ],
   "source": [
    "import csv\n",
    "import time\n",
    "\n",
    "physics_hyperparam = [0.000002]\n",
    "epochs = [100]\n",
    "lr_schedule = ExponentialDecay(\n",
    "        initial_learning_rate=0.0001,\n",
    "        decay_steps=5000,\n",
    "        decay_rate=0.85,\n",
    "        staircase=True\n",
    "    )\n",
    "\n",
    "y_differences = []\n",
    "total_losses = []\n",
    "empirical_losses = []\n",
    "physics_losses = []\n",
    "all_results=[]\n",
    "start = time.time()   \n",
    "for epoch in epochs:\n",
    "        for physics_weight in physics_hyperparam:\n",
    "            print(\"---------- Hyperparameter combinations ------------\")\n",
    "            print(\"Epoch : {};  physics_weight: {};\".format(str(epoch),  str(physics_weight)))\n",
    "\n",
    "            m = PGGCNModel()\n",
    "            m.addRule(\"sum\", 0, 32)\n",
    "            m.addRule(\"multiply\", 32, 33)\n",
    "            m.addRule(\"distance\", 33, 36)\n",
    "\n",
    "            opt = tf.keras.optimizers.Adam(learning_rate=lr_schedule)\n",
    "            m.compile(loss=combined_loss(physics_weight), optimizer=opt)\n",
    "\n",
    "            input_shapes = []\n",
    "            for i in range(len(X_train)):\n",
    "                input_shapes.append(np.array(X_train[i]).shape[0])\n",
    "            m.set_input_shapes(input_shapes)\n",
    "            for i in range(len(X_train)):\n",
    "                if X_train[i].shape[0] < 12000:\n",
    "                    new_list = np.zeros([12000 - X_train[i].shape[0], 53])\n",
    "                    X_train[i] = np.concatenate([X_train[i], new_list], 0)\n",
    "            X_train = np.array(X_train)\n",
    "            y_train = np.array(y_train)\n",
    "            \n",
    "\n",
    "            loss_tracker = LossComponentsCallback(m)\n",
    "\n",
    "            # Add early stopping\n",
    "            early_stopping = EarlyStopping(\n",
    "                monitor='loss',           \n",
    "                patience=20,              \n",
    "                restore_best_weights=True, \n",
    "                min_delta=0.001,          \n",
    "                verbose=1                 \n",
    "            )\n",
    "\n",
    "            hist = m.fit(X_train, y_train, epochs = epoch, batch_size=len(X_train),callbacks=[early_stopping,loss_tracker])\n",
    "\n",
    "\n",
    "            input_shapes = []\n",
    "            for i in range(len(X_test)):\n",
    "                input_shapes.append(np.array(X_test[i]).shape[0])\n",
    "            m.set_input_shapes(input_shapes)\n",
    "\n",
    "            for i in range(len(X_test)):\n",
    "                if X_test[i].shape[0] < 12000:\n",
    "                    new_list = np.zeros([12000 - X_test[i].shape[0], 53])\n",
    "                    X_test[i] = np.concatenate([X_test[i], new_list], 0)\n",
    "            X_test = np.array(X_test)\n",
    "            x_c = copy.deepcopy(X_test)\n",
    "            y_test = np.array(y_test)\n",
    "            y_pred_test = m.predict(X_test)\n",
    "            y_pred_test = np.array(y_pred_test[:,0])\n",
    "\n",
    "            y_difference = np.mean(np.abs(np.abs(y_test) - np.abs(y_pred_test)))\n",
    "            eval = m.evaluate(X_test, y_test)\n",
    "            print(\"The mean absolute difference between y_tru & y_pred is : {}\" .format(str(y_difference)))\n",
    "\n",
    "            final_train_loss = loss_tracker.total_losses[-1] if loss_tracker.total_losses else None\n",
    "\n",
    "        # Plot all loss components over epochs\n",
    "        plt.figure(figsize=(12, 8))\n",
    "\n",
    "        epoch_length = range(1, len(loss_tracker.total_losses) + 1)\n",
    "\n",
    "        # Total loss\n",
    "        plt.subplot(2, 2, 1)\n",
    "        plt.plot(epoch_length, loss_tracker.total_losses, 'b-', label='Total Loss')\n",
    "        plt.title('Total Loss')\n",
    "        plt.xlabel('Epochs')\n",
    "        plt.ylabel('Loss')\n",
    "        plt.legend()\n",
    "end = time.time()           \n",
    "print(\"Number of epochs: {} Epoch runtime is {} minutes\".format(str(epoch),((end - start)/60)))\n",
    "\n"
   ]
  },
  {
   "cell_type": "code",
   "execution_count": 21,
   "id": "e3eb03bc",
   "metadata": {},
   "outputs": [
    {
     "name": "stdout",
     "output_type": "stream",
     "text": [
      "[PhysicalDevice(name='/physical_device:GPU:0', device_type='GPU')]\n"
     ]
    }
   ],
   "source": [
    "print(tf.config.list_physical_devices('GPU')) "
   ]
  },
  {
   "cell_type": "code",
   "execution_count": null,
   "id": "8b7d2468",
   "metadata": {},
   "outputs": [],
   "source": [
    "gpus = tf.config.list_physical_devices('GPU')\n",
    "if gpus:\n",
    "    tf.config.experimental.set_memory_growth(gpus[0], True)  # Now applies to GPU 3"
   ]
  },
  {
   "cell_type": "code",
   "execution_count": null,
   "id": "8f0e7e8a",
   "metadata": {},
   "outputs": [],
   "source": [
    "if gpus:\n",
    "    tf.config.experimental.set_memory_growth(gpus[0], True)\n",
    "    x = tf.random.normal((10000, 10000))\n",
    "    y = tf.matmul(x, x)\n",
    "    print(y.numpy().mean()) "
   ]
  },
  {
   "cell_type": "code",
   "execution_count": null,
   "id": "955ba9d5",
   "metadata": {},
   "outputs": [],
   "source": [
    "%cd BFE-Loss-Function/"
   ]
  },
  {
   "cell_type": "code",
   "execution_count": null,
   "id": "9ad5b55d",
   "metadata": {},
   "outputs": [],
   "source": [
    "PDBs_BRD = pickle.load(open('PDBs_BRD4.pkl', 'rb'))\n",
    "df_test = pd.read_csv('BRD4_Test.csv')"
   ]
  },
  {
   "cell_type": "code",
   "execution_count": null,
   "id": "d6f61cb9",
   "metadata": {},
   "outputs": [],
   "source": [
    "info_brd4 = []\n",
    "for pdb in list(PDBs_BRD.keys()):\n",
    "    info_brd4.append(df_test[df_test['Ids'] == pdb][['pb_host_VDWAALS', 'pb_guest_VDWAALS', 'pb_complex_VDWAALS', 'gb_host_1-4EEL', 'gb_guest_1-4EEL', 'gb_Complex_1-4EEL',\n",
    "       'gb_host_EELEC', 'gb_guest_EELEC', 'gb_Complex_EELEC', 'gb_host_EGB', 'gb_guest_EGB', 'gb_Complex_EGB', 'gb_host_ESURF', 'gb_guest_ESURF', 'gb_Complex_ESURF']].to_numpy()[0])"
   ]
  },
  {
   "cell_type": "code",
   "execution_count": null,
   "id": "a6f95f5f",
   "metadata": {},
   "outputs": [],
   "source": [
    "df_test"
   ]
  },
  {
   "cell_type": "code",
   "execution_count": null,
   "id": "7e5eb69f",
   "metadata": {},
   "outputs": [],
   "source": [
    "X_brd4 = []\n",
    "y_brd4 = []\n",
    "for i, pdb in enumerate(list(PDBs_BRD.keys())):\n",
    "    X_brd4.append(featurize(PDBs_BRD[pdb], info_brd4[i]))\n",
    "    y_brd4.append(df_test[df_test['Ids'] == pdb]['Ex _G_(kcal/mol)'].to_numpy()[0])\n"
   ]
  },
  {
   "cell_type": "code",
   "execution_count": null,
   "id": "0c3d9d9e",
   "metadata": {},
   "outputs": [],
   "source": [
    "len(X_brd4), len(y_brd4)"
   ]
  },
  {
   "cell_type": "code",
   "execution_count": null,
   "id": "9ac80b02",
   "metadata": {},
   "outputs": [],
   "source": [
    "# X_brd4"
   ]
  },
  {
   "cell_type": "code",
   "execution_count": null,
   "id": "2ad7f16b",
   "metadata": {},
   "outputs": [],
   "source": [
    "\n",
    "input_shapes = []\n",
    "for i in range(len(X_brd4)):\n",
    "    input_shapes.append(np.array(X_brd4[i]).shape[0])\n",
    "m.set_input_shapes(input_shapes)\n",
    "\n",
    "for i in range(len(X_brd4)):\n",
    "    if X_brd4[i].shape[0] < 2000:\n",
    "        new_list = np.zeros([2000 - X_brd4[i].shape[0], 53])\n",
    "        X_brd4[i] = np.concatenate([X_brd4[i], new_list], 0)\n",
    "X_brd4 = np.array(X_brd4)\n",
    "x_c = copy.deepcopy(X_brd4)\n",
    "y_brd4 = np.array(y_brd4)\n",
    "y_brd4_test = m.predict(X_brd4)\n",
    "y_brd4_test = np.array(y_brd4_test[:,0])\n",
    "\n",
    "y_difference = np.mean(np.abs(y_brd4 - y_brd4_test))\n",
    "eval = m.evaluate(X_brd4, y_brd4,len(X_brd4))\n",
    "print(\"The mean absolute difference between y_tru & y_pred is : {}\" .format(str(y_difference)))\n",
    "\n",
    "print(y_difference)\n",
    "\n",
    "\n"
   ]
  },
  {
   "cell_type": "code",
   "execution_count": null,
   "id": "d7d5bce9",
   "metadata": {},
   "outputs": [],
   "source": [
    "# y_pred = m.predict(X_test, batch_size=53)\n",
    "# print(\"Predictions:\", y_pred)"
   ]
  },
  {
   "cell_type": "code",
   "execution_count": null,
   "id": "ce162696",
   "metadata": {},
   "outputs": [],
   "source": []
  }
 ],
 "metadata": {
  "kernelspec": {
   "display_name": "Python 3 (ipykernel)",
   "language": "python",
   "name": "python3"
  },
  "language_info": {
   "codemirror_mode": {
    "name": "ipython",
    "version": 3
   },
   "file_extension": ".py",
   "mimetype": "text/x-python",
   "name": "python",
   "nbconvert_exporter": "python",
   "pygments_lexer": "ipython3",
   "version": "3.10.11"
  }
 },
 "nbformat": 4,
 "nbformat_minor": 5
}
